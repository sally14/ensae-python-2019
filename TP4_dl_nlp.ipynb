{
 "cells": [
  {
   "cell_type": "markdown",
   "metadata": {},
   "source": [
    "# TP 4 : Introduction au deep learning pour le NLP\n",
    "\n",
    "\n",
    "Dans ce TP; on changera un peu des bases classiques d'apprentissage statistique, pour traiter un type de données différentes : le texte. \n",
    "\n",
    "Pour des raisons de temps, et comme il n'y a qu'une seule séance prévue sur ce sujet, on se focalisera sur les outils deep learning, et l'on ne verra pas les algorithmes type LDA/etc. \n",
    "\n",
    "\n",
    "## Données et preprocessing\n",
    "\n",
    "En texte, les données sont rarement aussi propres que dans les bases utilisées jusqu'à maintenant. \n",
    "Pour ce TP, on téléchargera une base de données de 50 000 descriptions de films. \n",
    "\n",
    "1. Télécharger les données (https://www.kaggle.com/rounakbanik/the-movies-dataset ), et ouvrir la base ```movies_metadata.csv``` avec pandas.\n",
    "2. Quelles sont les variables intéressantes à prédire? Tracer leurs histogrammes. Que remarquez-vous? \n",
    "\n",
    "## Un premier modèle de ML classique\n",
    "\n",
    "3. Faire un premier modèle de ML classique avec scikit learn en utilisant les variables non textuelles, évaluer.\n",
    "\n",
    "\n",
    "## Embeddings\n",
    "\n",
    "4. Apprendre des embeddings sur le corpus des descriptions des films non traité. Que remarquez-vous? \n",
    "\n",
    "5. Mettre en place le preprocessing adapté pour réduire la taille du vocabulaire et générer des embeddings de bonne qualité\n",
    "\n",
    "## Des embeddings au modèle de prédiction\n",
    "\n",
    "6. Quel problème remarquez-vous pour passer des embeddings à un modèle de prédiction? Suggérez des solutions d'aggrégation. Intégrez les résultats au modèle et évaluer. \n",
    "\n",
    "\n",
    "\n",
    "### 1. Télécharger les données (https://www.kaggle.com/rounakbanik/the-movies-dataset ), et ouvrir la base ```movies_metadata.csv``` avec pandas.\n",
    "\n",
    "*Nota : il faut utiliser un compte kaggle.*\n",
    "\n",
    "\n",
    "Ouvrons la base et regardons les différentes colonnes :\n",
    "\n"
   ]
  },
  {
   "cell_type": "code",
   "execution_count": 1,
   "metadata": {},
   "outputs": [
    {
     "name": "stderr",
     "output_type": "stream",
     "text": [
      "/usr/local/miniconda3/envs/ml_base/lib/python3.7/site-packages/IPython/core/interactiveshell.py:3058: DtypeWarning: Columns (10) have mixed types. Specify dtype option on import or set low_memory=False.\n",
      "  interactivity=interactivity, compiler=compiler, result=result)\n"
     ]
    }
   ],
   "source": [
    "import pandas as pd\n",
    "\n",
    "df = pd.read_csv('movies_metadata.csv', encoding='utf-8')"
   ]
  },
  {
   "cell_type": "code",
   "execution_count": 2,
   "metadata": {},
   "outputs": [
    {
     "data": {
      "text/html": [
       "<div>\n",
       "<style scoped>\n",
       "    .dataframe tbody tr th:only-of-type {\n",
       "        vertical-align: middle;\n",
       "    }\n",
       "\n",
       "    .dataframe tbody tr th {\n",
       "        vertical-align: top;\n",
       "    }\n",
       "\n",
       "    .dataframe thead th {\n",
       "        text-align: right;\n",
       "    }\n",
       "</style>\n",
       "<table border=\"1\" class=\"dataframe\">\n",
       "  <thead>\n",
       "    <tr style=\"text-align: right;\">\n",
       "      <th></th>\n",
       "      <th>adult</th>\n",
       "      <th>belongs_to_collection</th>\n",
       "      <th>budget</th>\n",
       "      <th>genres</th>\n",
       "      <th>homepage</th>\n",
       "      <th>id</th>\n",
       "      <th>imdb_id</th>\n",
       "      <th>original_language</th>\n",
       "      <th>original_title</th>\n",
       "      <th>overview</th>\n",
       "      <th>...</th>\n",
       "      <th>release_date</th>\n",
       "      <th>revenue</th>\n",
       "      <th>runtime</th>\n",
       "      <th>spoken_languages</th>\n",
       "      <th>status</th>\n",
       "      <th>tagline</th>\n",
       "      <th>title</th>\n",
       "      <th>video</th>\n",
       "      <th>vote_average</th>\n",
       "      <th>vote_count</th>\n",
       "    </tr>\n",
       "  </thead>\n",
       "  <tbody>\n",
       "    <tr>\n",
       "      <td>0</td>\n",
       "      <td>False</td>\n",
       "      <td>{'id': 10194, 'name': 'Toy Story Collection', ...</td>\n",
       "      <td>30000000</td>\n",
       "      <td>[{'id': 16, 'name': 'Animation'}, {'id': 35, '...</td>\n",
       "      <td>http://toystory.disney.com/toy-story</td>\n",
       "      <td>862</td>\n",
       "      <td>tt0114709</td>\n",
       "      <td>en</td>\n",
       "      <td>Toy Story</td>\n",
       "      <td>Led by Woody, Andy's toys live happily in his ...</td>\n",
       "      <td>...</td>\n",
       "      <td>1995-10-30</td>\n",
       "      <td>373554033.0</td>\n",
       "      <td>81.0</td>\n",
       "      <td>[{'iso_639_1': 'en', 'name': 'English'}]</td>\n",
       "      <td>Released</td>\n",
       "      <td>NaN</td>\n",
       "      <td>Toy Story</td>\n",
       "      <td>False</td>\n",
       "      <td>7.7</td>\n",
       "      <td>5415.0</td>\n",
       "    </tr>\n",
       "    <tr>\n",
       "      <td>1</td>\n",
       "      <td>False</td>\n",
       "      <td>NaN</td>\n",
       "      <td>65000000</td>\n",
       "      <td>[{'id': 12, 'name': 'Adventure'}, {'id': 14, '...</td>\n",
       "      <td>NaN</td>\n",
       "      <td>8844</td>\n",
       "      <td>tt0113497</td>\n",
       "      <td>en</td>\n",
       "      <td>Jumanji</td>\n",
       "      <td>When siblings Judy and Peter discover an encha...</td>\n",
       "      <td>...</td>\n",
       "      <td>1995-12-15</td>\n",
       "      <td>262797249.0</td>\n",
       "      <td>104.0</td>\n",
       "      <td>[{'iso_639_1': 'en', 'name': 'English'}, {'iso...</td>\n",
       "      <td>Released</td>\n",
       "      <td>Roll the dice and unleash the excitement!</td>\n",
       "      <td>Jumanji</td>\n",
       "      <td>False</td>\n",
       "      <td>6.9</td>\n",
       "      <td>2413.0</td>\n",
       "    </tr>\n",
       "    <tr>\n",
       "      <td>2</td>\n",
       "      <td>False</td>\n",
       "      <td>{'id': 119050, 'name': 'Grumpy Old Men Collect...</td>\n",
       "      <td>0</td>\n",
       "      <td>[{'id': 10749, 'name': 'Romance'}, {'id': 35, ...</td>\n",
       "      <td>NaN</td>\n",
       "      <td>15602</td>\n",
       "      <td>tt0113228</td>\n",
       "      <td>en</td>\n",
       "      <td>Grumpier Old Men</td>\n",
       "      <td>A family wedding reignites the ancient feud be...</td>\n",
       "      <td>...</td>\n",
       "      <td>1995-12-22</td>\n",
       "      <td>0.0</td>\n",
       "      <td>101.0</td>\n",
       "      <td>[{'iso_639_1': 'en', 'name': 'English'}]</td>\n",
       "      <td>Released</td>\n",
       "      <td>Still Yelling. Still Fighting. Still Ready for...</td>\n",
       "      <td>Grumpier Old Men</td>\n",
       "      <td>False</td>\n",
       "      <td>6.5</td>\n",
       "      <td>92.0</td>\n",
       "    </tr>\n",
       "    <tr>\n",
       "      <td>3</td>\n",
       "      <td>False</td>\n",
       "      <td>NaN</td>\n",
       "      <td>16000000</td>\n",
       "      <td>[{'id': 35, 'name': 'Comedy'}, {'id': 18, 'nam...</td>\n",
       "      <td>NaN</td>\n",
       "      <td>31357</td>\n",
       "      <td>tt0114885</td>\n",
       "      <td>en</td>\n",
       "      <td>Waiting to Exhale</td>\n",
       "      <td>Cheated on, mistreated and stepped on, the wom...</td>\n",
       "      <td>...</td>\n",
       "      <td>1995-12-22</td>\n",
       "      <td>81452156.0</td>\n",
       "      <td>127.0</td>\n",
       "      <td>[{'iso_639_1': 'en', 'name': 'English'}]</td>\n",
       "      <td>Released</td>\n",
       "      <td>Friends are the people who let you be yourself...</td>\n",
       "      <td>Waiting to Exhale</td>\n",
       "      <td>False</td>\n",
       "      <td>6.1</td>\n",
       "      <td>34.0</td>\n",
       "    </tr>\n",
       "    <tr>\n",
       "      <td>4</td>\n",
       "      <td>False</td>\n",
       "      <td>{'id': 96871, 'name': 'Father of the Bride Col...</td>\n",
       "      <td>0</td>\n",
       "      <td>[{'id': 35, 'name': 'Comedy'}]</td>\n",
       "      <td>NaN</td>\n",
       "      <td>11862</td>\n",
       "      <td>tt0113041</td>\n",
       "      <td>en</td>\n",
       "      <td>Father of the Bride Part II</td>\n",
       "      <td>Just when George Banks has recovered from his ...</td>\n",
       "      <td>...</td>\n",
       "      <td>1995-02-10</td>\n",
       "      <td>76578911.0</td>\n",
       "      <td>106.0</td>\n",
       "      <td>[{'iso_639_1': 'en', 'name': 'English'}]</td>\n",
       "      <td>Released</td>\n",
       "      <td>Just When His World Is Back To Normal... He's ...</td>\n",
       "      <td>Father of the Bride Part II</td>\n",
       "      <td>False</td>\n",
       "      <td>5.7</td>\n",
       "      <td>173.0</td>\n",
       "    </tr>\n",
       "  </tbody>\n",
       "</table>\n",
       "<p>5 rows × 24 columns</p>\n",
       "</div>"
      ],
      "text/plain": [
       "   adult                              belongs_to_collection    budget  \\\n",
       "0  False  {'id': 10194, 'name': 'Toy Story Collection', ...  30000000   \n",
       "1  False                                                NaN  65000000   \n",
       "2  False  {'id': 119050, 'name': 'Grumpy Old Men Collect...         0   \n",
       "3  False                                                NaN  16000000   \n",
       "4  False  {'id': 96871, 'name': 'Father of the Bride Col...         0   \n",
       "\n",
       "                                              genres  \\\n",
       "0  [{'id': 16, 'name': 'Animation'}, {'id': 35, '...   \n",
       "1  [{'id': 12, 'name': 'Adventure'}, {'id': 14, '...   \n",
       "2  [{'id': 10749, 'name': 'Romance'}, {'id': 35, ...   \n",
       "3  [{'id': 35, 'name': 'Comedy'}, {'id': 18, 'nam...   \n",
       "4                     [{'id': 35, 'name': 'Comedy'}]   \n",
       "\n",
       "                               homepage     id    imdb_id original_language  \\\n",
       "0  http://toystory.disney.com/toy-story    862  tt0114709                en   \n",
       "1                                   NaN   8844  tt0113497                en   \n",
       "2                                   NaN  15602  tt0113228                en   \n",
       "3                                   NaN  31357  tt0114885                en   \n",
       "4                                   NaN  11862  tt0113041                en   \n",
       "\n",
       "                original_title  \\\n",
       "0                    Toy Story   \n",
       "1                      Jumanji   \n",
       "2             Grumpier Old Men   \n",
       "3            Waiting to Exhale   \n",
       "4  Father of the Bride Part II   \n",
       "\n",
       "                                            overview  ... release_date  \\\n",
       "0  Led by Woody, Andy's toys live happily in his ...  ...   1995-10-30   \n",
       "1  When siblings Judy and Peter discover an encha...  ...   1995-12-15   \n",
       "2  A family wedding reignites the ancient feud be...  ...   1995-12-22   \n",
       "3  Cheated on, mistreated and stepped on, the wom...  ...   1995-12-22   \n",
       "4  Just when George Banks has recovered from his ...  ...   1995-02-10   \n",
       "\n",
       "       revenue runtime                                   spoken_languages  \\\n",
       "0  373554033.0    81.0           [{'iso_639_1': 'en', 'name': 'English'}]   \n",
       "1  262797249.0   104.0  [{'iso_639_1': 'en', 'name': 'English'}, {'iso...   \n",
       "2          0.0   101.0           [{'iso_639_1': 'en', 'name': 'English'}]   \n",
       "3   81452156.0   127.0           [{'iso_639_1': 'en', 'name': 'English'}]   \n",
       "4   76578911.0   106.0           [{'iso_639_1': 'en', 'name': 'English'}]   \n",
       "\n",
       "     status                                            tagline  \\\n",
       "0  Released                                                NaN   \n",
       "1  Released          Roll the dice and unleash the excitement!   \n",
       "2  Released  Still Yelling. Still Fighting. Still Ready for...   \n",
       "3  Released  Friends are the people who let you be yourself...   \n",
       "4  Released  Just When His World Is Back To Normal... He's ...   \n",
       "\n",
       "                         title  video vote_average vote_count  \n",
       "0                    Toy Story  False          7.7     5415.0  \n",
       "1                      Jumanji  False          6.9     2413.0  \n",
       "2             Grumpier Old Men  False          6.5       92.0  \n",
       "3            Waiting to Exhale  False          6.1       34.0  \n",
       "4  Father of the Bride Part II  False          5.7      173.0  \n",
       "\n",
       "[5 rows x 24 columns]"
      ]
     },
     "execution_count": 2,
     "metadata": {},
     "output_type": "execute_result"
    }
   ],
   "source": [
    "df.head()"
   ]
  },
  {
   "cell_type": "code",
   "execution_count": 3,
   "metadata": {},
   "outputs": [
    {
     "data": {
      "text/plain": [
       "Index(['adult', 'belongs_to_collection', 'budget', 'genres', 'homepage', 'id',\n",
       "       'imdb_id', 'original_language', 'original_title', 'overview',\n",
       "       'popularity', 'poster_path', 'production_companies',\n",
       "       'production_countries', 'release_date', 'revenue', 'runtime',\n",
       "       'spoken_languages', 'status', 'tagline', 'title', 'video',\n",
       "       'vote_average', 'vote_count'],\n",
       "      dtype='object')"
      ]
     },
     "execution_count": 3,
     "metadata": {},
     "output_type": "execute_result"
    }
   ],
   "source": [
    "df.columns"
   ]
  },
  {
   "cell_type": "markdown",
   "metadata": {},
   "source": [
    "### 2. Quelles sont les variables intéressantes à prédire? Tracer leurs histogrammes. Que remarquez-vous? \n",
    "\n",
    "Les variables intéressantes à prédire sont les suivantes : \n",
    " - ```popularity```\n",
    " - ```revenue```\n",
    " - ```vote_average```\n",
    "\n",
    "En effet, si l'on produit un film, on peut être intéressé par ses futurs résultats au box office, tant en terme financiers qu'en termes de popularité, ou de notes attribuées par les utilisateurs. \n",
    "\n",
    "On pourrait aussi vouloir prévoir les ```genres``` d'un film. Si un film était classé dans un unique genre, on serait dans le cadre d'un problème de classification classique, comme vu en cours. Si les films étaient classés dans un nombre fixe de genres (trois genres pour chaque film, par exemple), on serait dans un contexte de classification multi-label. On pourrait entraîner un prédicteur pour le premier, un prédicteur pour le deuxième et un prédicteur pour le troisième genre, par exemple, ou bien utiliser des méthodes de classification multi-label plus sophistiquées. \n",
    "Dans notre cas, les films ont un nombre de genres variable, ce qui rend complexe la modélisation de la tâche d'apprentissage. On laissera cette variable de côté pour ce TP. \n",
    "\n",
    "\n",
    "Commençons par conserver uniquement les films qui ont une description (pour la suite), et des valeurs de ```popularity, revenue, vote_average```, et étudions les caractéristiques de quelques variables. "
   ]
  },
  {
   "cell_type": "code",
   "execution_count": 4,
   "metadata": {
    "scrolled": false
   },
   "outputs": [
    {
     "name": "stdout",
     "output_type": "stream",
     "text": [
      "Number of non-missing values : \n",
      "\n",
      "adult                    44506\n",
      "belongs_to_collection     4431\n",
      "budget                   44506\n",
      "genres                   44506\n",
      "homepage                  7761\n",
      "id                       44506\n",
      "imdb_id                  44491\n",
      "original_language        44496\n",
      "original_title           44506\n",
      "overview                 44506\n",
      "popularity               44506\n",
      "poster_path              44163\n",
      "production_companies     44506\n",
      "production_countries     44506\n",
      "release_date             44435\n",
      "revenue                  44506\n",
      "runtime                  44506\n",
      "spoken_languages         44506\n",
      "status                   44441\n",
      "tagline                  20404\n",
      "title                    44506\n",
      "video                    44506\n",
      "vote_average             44506\n",
      "vote_count               44506\n",
      "dtype: int64\n"
     ]
    }
   ],
   "source": [
    "df = df.dropna(subset=['overview', 'popularity', 'revenue', 'vote_average'])\n",
    "print('Number of non-missing values : \\n')\n",
    "print(df.count())"
   ]
  },
  {
   "cell_type": "markdown",
   "metadata": {},
   "source": [
    "En enlevant les NaNs sur les variables à prédire et sur l'overview, il nous reste 44.506 films dans la base de donnée. Regardons la taille des ```overview``` : "
   ]
  },
  {
   "cell_type": "code",
   "execution_count": 5,
   "metadata": {
    "scrolled": true
   },
   "outputs": [
    {
     "name": "stdout",
     "output_type": "stream",
     "text": [
      "323.3534354918438\n",
      "204.9781276517869\n"
     ]
    }
   ],
   "source": [
    "print(df.overview.apply(lambda x: len(x)).mean())\n",
    "print(df.overview.apply(lambda x: len(x)).std())"
   ]
  },
  {
   "cell_type": "code",
   "execution_count": 6,
   "metadata": {
    "scrolled": true
   },
   "outputs": [
    {
     "data": {
      "text/plain": [
       "<matplotlib.axes._subplots.AxesSubplot at 0x11bf0f310>"
      ]
     },
     "execution_count": 6,
     "metadata": {},
     "output_type": "execute_result"
    },
    {
     "data": {
      "image/png": "[encoded data removed]",
      "text/plain": [
       "<Figure size 432x288 with 1 Axes>"
      ]
     },
     "metadata": {
      "needs_background": "light"
     },
     "output_type": "display_data"
    }
   ],
   "source": [
    "import matplotlib.pyplot as plt\n",
    "%matplotlib inline\n",
    "df.overview.apply(lambda x: len(x)).hist(bins=20)"
   ]
  },
  {
   "cell_type": "markdown",
   "metadata": {},
   "source": [
    "Intéressons nous maintenant aux variables à prédire : type, histogramme, etc..."
   ]
  },
  {
   "cell_type": "code",
   "execution_count": 10,
   "metadata": {},
   "outputs": [
    {
     "data": {
      "text/html": [
       "<div>\n",
       "<style scoped>\n",
       "    .dataframe tbody tr th:only-of-type {\n",
       "        vertical-align: middle;\n",
       "    }\n",
       "\n",
       "    .dataframe tbody tr th {\n",
       "        vertical-align: top;\n",
       "    }\n",
       "\n",
       "    .dataframe thead th {\n",
       "        text-align: right;\n",
       "    }\n",
       "</style>\n",
       "<table border=\"1\" class=\"dataframe\">\n",
       "  <thead>\n",
       "    <tr style=\"text-align: right;\">\n",
       "      <th></th>\n",
       "      <th>revenue</th>\n",
       "      <th>popularity</th>\n",
       "      <th>vote_average</th>\n",
       "    </tr>\n",
       "  </thead>\n",
       "  <tbody>\n",
       "    <tr>\n",
       "      <td>0</td>\n",
       "      <td>373554033.0</td>\n",
       "      <td>21.9469</td>\n",
       "      <td>7.7</td>\n",
       "    </tr>\n",
       "    <tr>\n",
       "      <td>1</td>\n",
       "      <td>262797249.0</td>\n",
       "      <td>17.0155</td>\n",
       "      <td>6.9</td>\n",
       "    </tr>\n",
       "    <tr>\n",
       "      <td>2</td>\n",
       "      <td>0.0</td>\n",
       "      <td>11.7129</td>\n",
       "      <td>6.5</td>\n",
       "    </tr>\n",
       "  </tbody>\n",
       "</table>\n",
       "</div>"
      ],
      "text/plain": [
       "       revenue popularity  vote_average\n",
       "0  373554033.0    21.9469           7.7\n",
       "1  262797249.0    17.0155           6.9\n",
       "2          0.0    11.7129           6.5"
      ]
     },
     "execution_count": 10,
     "metadata": {},
     "output_type": "execute_result"
    }
   ],
   "source": [
    "var = df[['revenue', 'popularity', 'vote_average']]\n",
    "var.head(3)"
   ]
  },
  {
   "cell_type": "code",
   "execution_count": 11,
   "metadata": {},
   "outputs": [
    {
     "data": {
      "text/plain": [
       "<matplotlib.axes._subplots.AxesSubplot at 0x11a77dcd0>"
      ]
     },
     "execution_count": 11,
     "metadata": {},
     "output_type": "execute_result"
    },
    {
     "data": {
      "image/png": "[encoded data removed]",
      "text/plain": [
       "<Figure size 432x288 with 1 Axes>"
      ]
     },
     "metadata": {
      "needs_background": "light"
     },
     "output_type": "display_data"
    }
   ],
   "source": [
    "var.revenue.hist(bins=50)"
   ]
  },
  {
   "cell_type": "code",
   "execution_count": 12,
   "metadata": {},
   "outputs": [
    {
     "name": "stderr",
     "output_type": "stream",
     "text": [
      "/usr/local/miniconda3/envs/ml_base/lib/python3.7/site-packages/ipykernel_launcher.py:1: SettingWithCopyWarning: \n",
      "A value is trying to be set on a copy of a slice from a DataFrame.\n",
      "Try using .loc[row_indexer,col_indexer] = value instead\n",
      "\n",
      "See the caveats in the documentation: http://pandas.pydata.org/pandas-docs/stable/user_guide/indexing.html#returning-a-view-versus-a-copy\n",
      "  \"\"\"Entry point for launching an IPython kernel.\n"
     ]
    },
    {
     "data": {
      "text/plain": [
       "<matplotlib.axes._subplots.AxesSubplot at 0x11dd4b5d0>"
      ]
     },
     "execution_count": 12,
     "metadata": {},
     "output_type": "execute_result"
    },
    {
     "data": {
      "image/png": "[encoded data removed]",
      "text/plain": [
       "<Figure size 432x288 with 1 Axes>"
      ]
     },
     "metadata": {
      "needs_background": "light"
     },
     "output_type": "display_data"
    }
   ],
   "source": [
    "var['popularity'] = var.popularity.astype('float')\n",
    "var.popularity.dropna().hist(bins=50)"
   ]
  },
  {
   "cell_type": "code",
   "execution_count": 13,
   "metadata": {
    "scrolled": true
   },
   "outputs": [
    {
     "data": {
      "text/plain": [
       "<matplotlib.axes._subplots.AxesSubplot at 0x11e91f4d0>"
      ]
     },
     "execution_count": 13,
     "metadata": {},
     "output_type": "execute_result"
    },
    {
     "data": {
      "image/png": "[encoded data removed]",
      "text/plain": [
       "<Figure size 432x288 with 1 Axes>"
      ]
     },
     "metadata": {
      "needs_background": "light"
     },
     "output_type": "display_data"
    }
   ],
   "source": [
    "var.vote_average.dropna().hist(bins=20)"
   ]
  },
  {
   "cell_type": "markdown",
   "metadata": {},
   "source": [
    "On observe une répartition des valeurs en décroissance exponentielle pour le ```revenue``` et la ```popularity```. \n",
    "Quelques rares films font de très gros bénéfices, et le reste n'en fait quasiment pas. \n",
    "\n",
    "Sur ces deux variables, on pourra donc anticiper que les modèles auront un pouvoir prédictif faible : si le modèle prédit la moyenne du  ```revenue``` ou de la ```popularity``` pour tout nouveau film, il aura probablement des métriques correctes. Pour vérifier cela, calculons le R2 et la MSE d'un modèle qui prédit la moyenne, la médiane, et 0, qui seront nos baselines : "
   ]
  },
  {
   "cell_type": "code",
   "execution_count": 33,
   "metadata": {},
   "outputs": [
    {
     "name": "stderr",
     "output_type": "stream",
     "text": [
      "/usr/local/miniconda3/envs/ml_base/lib/python3.7/site-packages/tqdm/std.py:651: FutureWarning: The Panel class is removed from pandas. Accessing it from the top-level namespace will also be removed in the next version\n",
      "  from pandas import Panel\n"
     ]
    },
    {
     "data": {
      "application/vnd.jupyter.widget-view+json": {
       "model_id": "ebe59c987b6f4b3dbd3e7eaf3d98252b",
       "version_major": 2,
       "version_minor": 0
      },
      "text/plain": [
       "HBox(children=(IntProgress(value=0, description='Pandas Apply', max=44506, style=ProgressStyle(description_wid…"
      ]
     },
     "metadata": {},
     "output_type": "display_data"
    },
    {
     "name": "stdout",
     "output_type": "stream",
     "text": [
      "\n"
     ]
    },
    {
     "data": {
      "application/vnd.jupyter.widget-view+json": {
       "model_id": "c924dd088434477eb4387f0f94136e00",
       "version_major": 2,
       "version_minor": 0
      },
      "text/plain": [
       "HBox(children=(IntProgress(value=0, description='Pandas Apply', max=44506, style=ProgressStyle(description_wid…"
      ]
     },
     "metadata": {},
     "output_type": "display_data"
    },
    {
     "name": "stdout",
     "output_type": "stream",
     "text": [
      "\n",
      "{'R2_mean': 0.0, 'MSE_mean': 4224531851793593.0, 'R2_median': -0.031021668500440525, 'MSE_median': 4355583878469485.5, 'R2_zero': -0.031021668500440525, 'MSE_zero': 4355583878469485.5}\n"
     ]
    }
   ],
   "source": [
    "from sklearn.metrics import r2_score, mean_squared_error\n",
    "import swifter\n",
    "y_true = df['revenue'].astype('float')\n",
    "mean = y_true.mean()\n",
    "median = y_true.median()\n",
    "y_pred_mean = df['revenue'].swifter.apply(lambda x : mean )\n",
    "y_pred_median = df['revenue'].swifter.apply(lambda x : median)\n",
    "y_pred_zero = df['revenue'].apply(lambda x : 0)\n",
    "m_rev = {'R2_mean' : r2_score(y_true, y_pred_mean),\n",
    "         'MSE_mean' : mean_squared_error(y_true, y_pred_mean),\n",
    "         'R2_median' : r2_score(y_true, y_pred_median),\n",
    "         'MSE_median' : mean_squared_error(y_true, y_pred_median),\n",
    "         'R2_zero' : r2_score(y_true, y_pred_zero),\n",
    "         'MSE_zero' : mean_squared_error(y_true, y_pred_zero)}\n",
    "print(m_rev)"
   ]
  },
  {
   "cell_type": "code",
   "execution_count": 31,
   "metadata": {},
   "outputs": [
    {
     "name": "stderr",
     "output_type": "stream",
     "text": [
      "/usr/local/miniconda3/envs/ml_base/lib/python3.7/site-packages/tqdm/std.py:651: FutureWarning: The Panel class is removed from pandas. Accessing it from the top-level namespace will also be removed in the next version\n",
      "  from pandas import Panel\n"
     ]
    },
    {
     "data": {
      "application/vnd.jupyter.widget-view+json": {
       "model_id": "e7b09a8e10944f509540688f42a17a7c",
       "version_major": 2,
       "version_minor": 0
      },
      "text/plain": [
       "HBox(children=(IntProgress(value=0, description='Pandas Apply', max=44506, style=ProgressStyle(description_wid…"
      ]
     },
     "metadata": {},
     "output_type": "display_data"
    },
    {
     "name": "stdout",
     "output_type": "stream",
     "text": [
      "\n"
     ]
    },
    {
     "data": {
      "application/vnd.jupyter.widget-view+json": {
       "model_id": "cc820634811d452b9d42c63646b0a969",
       "version_major": 2,
       "version_minor": 0
      },
      "text/plain": [
       "HBox(children=(IntProgress(value=0, description='Pandas Apply', max=44506, style=ProgressStyle(description_wid…"
      ]
     },
     "metadata": {},
     "output_type": "display_data"
    },
    {
     "name": "stdout",
     "output_type": "stream",
     "text": [
      "\n",
      "{'R2_mean': 0.0, 'MSE_mean': 36.699869285094465, 'R2_median': -0.0894674351655893, 'MSE_median': 39.983312460944255, 'R2_zero': -0.24066084369468177, 'MSE_zero': 45.53209079072983}\n"
     ]
    }
   ],
   "source": [
    "from sklearn.metrics import r2_score, mean_squared_error\n",
    "import swifter\n",
    "y_true = df['popularity'].astype('float')\n",
    "mean = y_true.mean()\n",
    "median = y_true.median()\n",
    "y_pred_mean = df['popularity'].swifter.apply(lambda x : mean )\n",
    "y_pred_median = df['popularity'].swifter.apply(lambda x : median)\n",
    "y_pred_zero = df['popularity'].apply(lambda x : 0)\n",
    "m_pop = {'R2_mean' : r2_score(y_true, y_pred_mean),\n",
    "         'MSE_mean' : mean_squared_error(y_true, y_pred_mean),\n",
    "         'R2_median' : r2_score(y_true, y_pred_median),\n",
    "         'MSE_median' : mean_squared_error(y_true, y_pred_median),\n",
    "         'R2_zero' : r2_score(y_true, y_pred_zero),\n",
    "         'MSE_zero' : mean_squared_error(y_true, y_pred_zero)}\n",
    "print(m_pop)"
   ]
  },
  {
   "cell_type": "markdown",
   "metadata": {},
   "source": [
    "Les métriques sont, de manière contre-intuitive, très mauvaises. Elles nous serviront de baseline pour la suite. \n",
    "\n",
    "Regardons maintenant le ```vote_average```. Sa répartition, hormis les 0, ressemble vaguement à une gaussienne, ce qui semblerait en faire une variable plus facile à prédire (d'autant qu'elle est bornée). On verra dans la suite que ce n'est pas le cas. \n",
    "\n",
    "Déterminons notre baseline à battre sur le ```vote_average```. \n"
   ]
  },
  {
   "cell_type": "code",
   "execution_count": 32,
   "metadata": {},
   "outputs": [
    {
     "name": "stderr",
     "output_type": "stream",
     "text": [
      "/usr/local/miniconda3/envs/ml_base/lib/python3.7/site-packages/tqdm/std.py:651: FutureWarning: The Panel class is removed from pandas. Accessing it from the top-level namespace will also be removed in the next version\n",
      "  from pandas import Panel\n"
     ]
    },
    {
     "data": {
      "application/vnd.jupyter.widget-view+json": {
       "model_id": "ce09312da9fc44eebd7d64c49c1278e2",
       "version_major": 2,
       "version_minor": 0
      },
      "text/plain": [
       "HBox(children=(IntProgress(value=0, description='Pandas Apply', max=44506, style=ProgressStyle(description_wid…"
      ]
     },
     "metadata": {},
     "output_type": "display_data"
    },
    {
     "name": "stdout",
     "output_type": "stream",
     "text": [
      "\n"
     ]
    },
    {
     "data": {
      "application/vnd.jupyter.widget-view+json": {
       "model_id": "3936bb2006b84da3a41abd5497af50d5",
       "version_major": 2,
       "version_minor": 0
      },
      "text/plain": [
       "HBox(children=(IntProgress(value=0, description='Pandas Apply', max=44506, style=ProgressStyle(description_wid…"
      ]
     },
     "metadata": {},
     "output_type": "display_data"
    },
    {
     "name": "stdout",
     "output_type": "stream",
     "text": [
      "\n",
      "{'R2_mean': 0.0, 'MSE_mean': 3.5978780790618203, 'R2_median': -0.03624568217230317, 'MSE_median': 3.7282856244101916, 'R2_zero': -8.837700627568308, 'MSE_zero': 35.39484743630072}\n"
     ]
    }
   ],
   "source": [
    "from sklearn.metrics import r2_score, mean_squared_error\n",
    "import swifter\n",
    "y_true = df['vote_average'].astype('float')\n",
    "mean = y_true.mean()\n",
    "median = y_true.median()\n",
    "y_pred_mean = df['vote_average'].swifter.apply(lambda x : mean )\n",
    "y_pred_median = df['vote_average'].swifter.apply(lambda x : median)\n",
    "y_pred_zero = df['vote_average'].apply(lambda x : 0)\n",
    "m_vot = {'R2_mean' : r2_score(y_true, y_pred_mean),\n",
    "         'MSE_mean' : mean_squared_error(y_true, y_pred_mean),\n",
    "         'R2_median' : r2_score(y_true, y_pred_median),\n",
    "         'MSE_median' : mean_squared_error(y_true, y_pred_median),\n",
    "         'R2_zero' : r2_score(y_true, y_pred_zero),\n",
    "         'MSE_zero' : mean_squared_error(y_true, y_pred_zero)}\n",
    "\n",
    "print(m_vot)"
   ]
  },
  {
   "cell_type": "markdown",
   "metadata": {},
   "source": [
    "Aucune de nos baselines naïve ne semble parvenir à saisir le phénomène. Essayons de prédire les 3 variables avec un modèle de machine learning classique. \n",
    "\n",
    "## 4. Premier modèle ML classique\n",
    "\n",
    "Dans cette partie, on va directement appliquer ce que l'on a fait dans les dernier TP : du boosting, avec des hyperparamètres optimaux, grâce à GridSearchCV.\n",
    "\n",
    "Nous regarderons comment notre modèle performe par rapport à nos baselines. "
   ]
  },
  {
   "cell_type": "code",
   "execution_count": 34,
   "metadata": {},
   "outputs": [],
   "source": [
    "from sklearn.model_selection import GridSearchCV\n",
    "from sklearn.ensemble import AdaBoostRegressor"
   ]
  },
  {
   "cell_type": "code",
   "execution_count": 54,
   "metadata": {},
   "outputs": [
    {
     "data": {
      "text/plain": [
       "Index(['adult', 'belongs_to_collection', 'budget', 'genres', 'homepage', 'id',\n",
       "       'imdb_id', 'original_language', 'original_title', 'overview',\n",
       "       'popularity', 'poster_path', 'production_companies',\n",
       "       'production_countries', 'release_date', 'revenue', 'runtime',\n",
       "       'spoken_languages', 'status', 'tagline', 'title', 'video',\n",
       "       'vote_average', 'vote_count'],\n",
       "      dtype='object')"
      ]
     },
     "execution_count": 54,
     "metadata": {},
     "output_type": "execute_result"
    }
   ],
   "source": [
    "df.columns"
   ]
  },
  {
   "cell_type": "markdown",
   "metadata": {},
   "source": [
    "Sur l'ensemble de ces colonnes, on va sélectionner les features suivantes : "
   ]
  },
  {
   "cell_type": "code",
   "execution_count": 49,
   "metadata": {},
   "outputs": [],
   "source": [
    "df['popularity'] = df.popularity.astype('float') # Preprocessing de popularity : on le repasse en float.\n",
    "df['budget'] = df.budget.astype('float')\n",
    "dataset = dataset[['adult', 'budget', 'runtime', 'original_language', 'popularity', 'vote_average', 'revenue']]"
   ]
  },
  {
   "cell_type": "code",
   "execution_count": 41,
   "metadata": {
    "scrolled": true
   },
   "outputs": [
    {
     "data": {
      "text/html": [
       "<div>\n",
       "<style scoped>\n",
       "    .dataframe tbody tr th:only-of-type {\n",
       "        vertical-align: middle;\n",
       "    }\n",
       "\n",
       "    .dataframe tbody tr th {\n",
       "        vertical-align: top;\n",
       "    }\n",
       "\n",
       "    .dataframe thead th {\n",
       "        text-align: right;\n",
       "    }\n",
       "</style>\n",
       "<table border=\"1\" class=\"dataframe\">\n",
       "  <thead>\n",
       "    <tr style=\"text-align: right;\">\n",
       "      <th></th>\n",
       "      <th>adult</th>\n",
       "      <th>budget</th>\n",
       "      <th>runtime</th>\n",
       "      <th>original_language</th>\n",
       "      <th>popularity</th>\n",
       "      <th>vote_average</th>\n",
       "      <th>revenue</th>\n",
       "    </tr>\n",
       "  </thead>\n",
       "  <tbody>\n",
       "    <tr>\n",
       "      <td>0</td>\n",
       "      <td>False</td>\n",
       "      <td>30000000.0</td>\n",
       "      <td>81.0</td>\n",
       "      <td>en</td>\n",
       "      <td>21.946943</td>\n",
       "      <td>7.7</td>\n",
       "      <td>373554033.0</td>\n",
       "    </tr>\n",
       "    <tr>\n",
       "      <td>1</td>\n",
       "      <td>False</td>\n",
       "      <td>65000000.0</td>\n",
       "      <td>104.0</td>\n",
       "      <td>en</td>\n",
       "      <td>17.015539</td>\n",
       "      <td>6.9</td>\n",
       "      <td>262797249.0</td>\n",
       "    </tr>\n",
       "    <tr>\n",
       "      <td>2</td>\n",
       "      <td>False</td>\n",
       "      <td>0.0</td>\n",
       "      <td>101.0</td>\n",
       "      <td>en</td>\n",
       "      <td>11.712900</td>\n",
       "      <td>6.5</td>\n",
       "      <td>0.0</td>\n",
       "    </tr>\n",
       "    <tr>\n",
       "      <td>3</td>\n",
       "      <td>False</td>\n",
       "      <td>16000000.0</td>\n",
       "      <td>127.0</td>\n",
       "      <td>en</td>\n",
       "      <td>3.859495</td>\n",
       "      <td>6.1</td>\n",
       "      <td>81452156.0</td>\n",
       "    </tr>\n",
       "    <tr>\n",
       "      <td>4</td>\n",
       "      <td>False</td>\n",
       "      <td>0.0</td>\n",
       "      <td>106.0</td>\n",
       "      <td>en</td>\n",
       "      <td>8.387519</td>\n",
       "      <td>5.7</td>\n",
       "      <td>76578911.0</td>\n",
       "    </tr>\n",
       "  </tbody>\n",
       "</table>\n",
       "</div>"
      ],
      "text/plain": [
       "   adult      budget  runtime original_language  popularity  vote_average  \\\n",
       "0  False  30000000.0     81.0                en   21.946943           7.7   \n",
       "1  False  65000000.0    104.0                en   17.015539           6.9   \n",
       "2  False         0.0    101.0                en   11.712900           6.5   \n",
       "3  False  16000000.0    127.0                en    3.859495           6.1   \n",
       "4  False         0.0    106.0                en    8.387519           5.7   \n",
       "\n",
       "       revenue  \n",
       "0  373554033.0  \n",
       "1  262797249.0  \n",
       "2          0.0  \n",
       "3   81452156.0  \n",
       "4   76578911.0  "
      ]
     },
     "execution_count": 41,
     "metadata": {},
     "output_type": "execute_result"
    }
   ],
   "source": [
    "dataset.head()"
   ]
  },
  {
   "cell_type": "markdown",
   "metadata": {},
   "source": [
    "Transformons efficacement le langage original et la variable ```adult``` en des variables numériques : "
   ]
  },
  {
   "cell_type": "code",
   "execution_count": 50,
   "metadata": {},
   "outputs": [],
   "source": [
    "from collections import Counter\n",
    "dic_language = Counter(dataset.original_language)\n",
    "dic_language = {list(dic_language.keys())[i]: i for i in range(len(dic_language))}"
   ]
  },
  {
   "cell_type": "code",
   "execution_count": 51,
   "metadata": {},
   "outputs": [],
   "source": [
    "dataset['adult'] = dataset.adult.apply(lambda x: 1 if x==True else 0)"
   ]
  },
  {
   "cell_type": "code",
   "execution_count": 52,
   "metadata": {},
   "outputs": [],
   "source": [
    "dataset['original_language'] = dataset.original_language.apply(lambda x: dic_language[x])"
   ]
  },
  {
   "cell_type": "code",
   "execution_count": 53,
   "metadata": {
    "scrolled": true
   },
   "outputs": [
    {
     "data": {
      "text/html": [
       "<div>\n",
       "<style scoped>\n",
       "    .dataframe tbody tr th:only-of-type {\n",
       "        vertical-align: middle;\n",
       "    }\n",
       "\n",
       "    .dataframe tbody tr th {\n",
       "        vertical-align: top;\n",
       "    }\n",
       "\n",
       "    .dataframe thead th {\n",
       "        text-align: right;\n",
       "    }\n",
       "</style>\n",
       "<table border=\"1\" class=\"dataframe\">\n",
       "  <thead>\n",
       "    <tr style=\"text-align: right;\">\n",
       "      <th></th>\n",
       "      <th>adult</th>\n",
       "      <th>budget</th>\n",
       "      <th>runtime</th>\n",
       "      <th>original_language</th>\n",
       "      <th>popularity</th>\n",
       "      <th>vote_average</th>\n",
       "      <th>revenue</th>\n",
       "    </tr>\n",
       "  </thead>\n",
       "  <tbody>\n",
       "    <tr>\n",
       "      <td>0</td>\n",
       "      <td>1</td>\n",
       "      <td>30000000.0</td>\n",
       "      <td>81.0</td>\n",
       "      <td>0</td>\n",
       "      <td>21.946943</td>\n",
       "      <td>7.7</td>\n",
       "      <td>373554033.0</td>\n",
       "    </tr>\n",
       "    <tr>\n",
       "      <td>1</td>\n",
       "      <td>1</td>\n",
       "      <td>65000000.0</td>\n",
       "      <td>104.0</td>\n",
       "      <td>0</td>\n",
       "      <td>17.015539</td>\n",
       "      <td>6.9</td>\n",
       "      <td>262797249.0</td>\n",
       "    </tr>\n",
       "    <tr>\n",
       "      <td>2</td>\n",
       "      <td>1</td>\n",
       "      <td>0.0</td>\n",
       "      <td>101.0</td>\n",
       "      <td>0</td>\n",
       "      <td>11.712900</td>\n",
       "      <td>6.5</td>\n",
       "      <td>0.0</td>\n",
       "    </tr>\n",
       "    <tr>\n",
       "      <td>3</td>\n",
       "      <td>1</td>\n",
       "      <td>16000000.0</td>\n",
       "      <td>127.0</td>\n",
       "      <td>0</td>\n",
       "      <td>3.859495</td>\n",
       "      <td>6.1</td>\n",
       "      <td>81452156.0</td>\n",
       "    </tr>\n",
       "    <tr>\n",
       "      <td>4</td>\n",
       "      <td>1</td>\n",
       "      <td>0.0</td>\n",
       "      <td>106.0</td>\n",
       "      <td>0</td>\n",
       "      <td>8.387519</td>\n",
       "      <td>5.7</td>\n",
       "      <td>76578911.0</td>\n",
       "    </tr>\n",
       "  </tbody>\n",
       "</table>\n",
       "</div>"
      ],
      "text/plain": [
       "   adult      budget  runtime  original_language  popularity  vote_average  \\\n",
       "0      1  30000000.0     81.0                  0   21.946943           7.7   \n",
       "1      1  65000000.0    104.0                  0   17.015539           6.9   \n",
       "2      1         0.0    101.0                  0   11.712900           6.5   \n",
       "3      1  16000000.0    127.0                  0    3.859495           6.1   \n",
       "4      1         0.0    106.0                  0    8.387519           5.7   \n",
       "\n",
       "       revenue  \n",
       "0  373554033.0  \n",
       "1  262797249.0  \n",
       "2          0.0  \n",
       "3   81452156.0  \n",
       "4   76578911.0  "
      ]
     },
     "execution_count": 53,
     "metadata": {},
     "output_type": "execute_result"
    }
   ],
   "source": [
    "dataset.head()"
   ]
  },
  {
   "cell_type": "markdown",
   "metadata": {},
   "source": [
    "Prenons les hyperparamètres d'AdaBoot, en régression, pour écrire notre ```param_grid```"
   ]
  },
  {
   "cell_type": "code",
   "execution_count": 54,
   "metadata": {},
   "outputs": [
    {
     "data": {
      "text/plain": [
       "{'base_estimator': None,\n",
       " 'learning_rate': 1.0,\n",
       " 'loss': 'linear',\n",
       " 'n_estimators': 50,\n",
       " 'random_state': None}"
      ]
     },
     "execution_count": 54,
     "metadata": {},
     "output_type": "execute_result"
    }
   ],
   "source": [
    "AdaBoostRegressor().get_params()"
   ]
  },
  {
   "cell_type": "code",
   "execution_count": 57,
   "metadata": {},
   "outputs": [],
   "source": [
    "from sklearn.tree import DecisionTreeRegressor\n",
    "params_grid = {'base_estimator': [DecisionTreeRegressor(max_depth=2), \n",
    "                                  DecisionTreeRegressor(max_depth=3), \n",
    "                                  DecisionTreeRegressor(max_depth=10)],\n",
    "                 'learning_rate': [0.01, 0.1, 1.0, 10],\n",
    "                 'n_estimators': [10, 50]}"
   ]
  },
  {
   "cell_type": "code",
   "execution_count": 61,
   "metadata": {},
   "outputs": [
    {
     "name": "stderr",
     "output_type": "stream",
     "text": [
      "/usr/local/miniconda3/envs/ml_base/lib/python3.7/site-packages/sklearn/model_selection/_split.py:1978: FutureWarning: The default value of cv will change from 3 to 5 in version 0.22. Specify it explicitly to silence this warning.\n",
      "  warnings.warn(CV_WARNING, FutureWarning)\n"
     ]
    },
    {
     "data": {
      "text/html": [
       "<div>\n",
       "<style scoped>\n",
       "    .dataframe tbody tr th:only-of-type {\n",
       "        vertical-align: middle;\n",
       "    }\n",
       "\n",
       "    .dataframe tbody tr th {\n",
       "        vertical-align: top;\n",
       "    }\n",
       "\n",
       "    .dataframe thead th {\n",
       "        text-align: right;\n",
       "    }\n",
       "</style>\n",
       "<table border=\"1\" class=\"dataframe\">\n",
       "  <thead>\n",
       "    <tr style=\"text-align: right;\">\n",
       "      <th></th>\n",
       "      <th>mean_fit_time</th>\n",
       "      <th>std_fit_time</th>\n",
       "      <th>mean_score_time</th>\n",
       "      <th>std_score_time</th>\n",
       "      <th>param_base_estimator</th>\n",
       "      <th>param_learning_rate</th>\n",
       "      <th>param_n_estimators</th>\n",
       "      <th>params</th>\n",
       "      <th>split0_test_score</th>\n",
       "      <th>split1_test_score</th>\n",
       "      <th>split2_test_score</th>\n",
       "      <th>mean_test_score</th>\n",
       "      <th>std_test_score</th>\n",
       "      <th>rank_test_score</th>\n",
       "    </tr>\n",
       "  </thead>\n",
       "  <tbody>\n",
       "    <tr>\n",
       "      <td>9</td>\n",
       "      <td>0.640055</td>\n",
       "      <td>0.012622</td>\n",
       "      <td>0.051944</td>\n",
       "      <td>0.004056</td>\n",
       "      <td>DecisionTreeRegressor(criterion='mse', max_dep...</td>\n",
       "      <td>0.01</td>\n",
       "      <td>50</td>\n",
       "      <td>{'base_estimator': DecisionTreeRegressor(crite...</td>\n",
       "      <td>0.096353</td>\n",
       "      <td>0.281116</td>\n",
       "      <td>0.110498</td>\n",
       "      <td>0.162654</td>\n",
       "      <td>0.083962</td>\n",
       "      <td>1</td>\n",
       "    </tr>\n",
       "    <tr>\n",
       "      <td>0</td>\n",
       "      <td>0.121591</td>\n",
       "      <td>0.012590</td>\n",
       "      <td>0.008407</td>\n",
       "      <td>0.000801</td>\n",
       "      <td>DecisionTreeRegressor(criterion='mse', max_dep...</td>\n",
       "      <td>0.01</td>\n",
       "      <td>10</td>\n",
       "      <td>{'base_estimator': DecisionTreeRegressor(crite...</td>\n",
       "      <td>0.124495</td>\n",
       "      <td>0.261629</td>\n",
       "      <td>0.077706</td>\n",
       "      <td>0.154609</td>\n",
       "      <td>0.078047</td>\n",
       "      <td>2</td>\n",
       "    </tr>\n",
       "    <tr>\n",
       "      <td>1</td>\n",
       "      <td>0.600410</td>\n",
       "      <td>0.020549</td>\n",
       "      <td>0.043912</td>\n",
       "      <td>0.001898</td>\n",
       "      <td>DecisionTreeRegressor(criterion='mse', max_dep...</td>\n",
       "      <td>0.01</td>\n",
       "      <td>50</td>\n",
       "      <td>{'base_estimator': DecisionTreeRegressor(crite...</td>\n",
       "      <td>-0.012937</td>\n",
       "      <td>0.265618</td>\n",
       "      <td>0.079618</td>\n",
       "      <td>0.110764</td>\n",
       "      <td>0.115833</td>\n",
       "      <td>3</td>\n",
       "    </tr>\n",
       "    <tr>\n",
       "      <td>10</td>\n",
       "      <td>0.136100</td>\n",
       "      <td>0.002566</td>\n",
       "      <td>0.010218</td>\n",
       "      <td>0.000843</td>\n",
       "      <td>DecisionTreeRegressor(criterion='mse', max_dep...</td>\n",
       "      <td>0.1</td>\n",
       "      <td>10</td>\n",
       "      <td>{'base_estimator': DecisionTreeRegressor(crite...</td>\n",
       "      <td>-0.057560</td>\n",
       "      <td>0.230740</td>\n",
       "      <td>0.111276</td>\n",
       "      <td>0.094815</td>\n",
       "      <td>0.118273</td>\n",
       "      <td>4</td>\n",
       "    </tr>\n",
       "    <tr>\n",
       "      <td>8</td>\n",
       "      <td>0.130431</td>\n",
       "      <td>0.002048</td>\n",
       "      <td>0.009425</td>\n",
       "      <td>0.000586</td>\n",
       "      <td>DecisionTreeRegressor(criterion='mse', max_dep...</td>\n",
       "      <td>0.01</td>\n",
       "      <td>10</td>\n",
       "      <td>{'base_estimator': DecisionTreeRegressor(crite...</td>\n",
       "      <td>-0.112713</td>\n",
       "      <td>0.276473</td>\n",
       "      <td>0.105416</td>\n",
       "      <td>0.089721</td>\n",
       "      <td>0.159273</td>\n",
       "      <td>5</td>\n",
       "    </tr>\n",
       "  </tbody>\n",
       "</table>\n",
       "</div>"
      ],
      "text/plain": [
       "    mean_fit_time  std_fit_time  mean_score_time  std_score_time  \\\n",
       "9        0.640055      0.012622         0.051944        0.004056   \n",
       "0        0.121591      0.012590         0.008407        0.000801   \n",
       "1        0.600410      0.020549         0.043912        0.001898   \n",
       "10       0.136100      0.002566         0.010218        0.000843   \n",
       "8        0.130431      0.002048         0.009425        0.000586   \n",
       "\n",
       "                                 param_base_estimator param_learning_rate  \\\n",
       "9   DecisionTreeRegressor(criterion='mse', max_dep...                0.01   \n",
       "0   DecisionTreeRegressor(criterion='mse', max_dep...                0.01   \n",
       "1   DecisionTreeRegressor(criterion='mse', max_dep...                0.01   \n",
       "10  DecisionTreeRegressor(criterion='mse', max_dep...                 0.1   \n",
       "8   DecisionTreeRegressor(criterion='mse', max_dep...                0.01   \n",
       "\n",
       "   param_n_estimators                                             params  \\\n",
       "9                  50  {'base_estimator': DecisionTreeRegressor(crite...   \n",
       "0                  10  {'base_estimator': DecisionTreeRegressor(crite...   \n",
       "1                  50  {'base_estimator': DecisionTreeRegressor(crite...   \n",
       "10                 10  {'base_estimator': DecisionTreeRegressor(crite...   \n",
       "8                  10  {'base_estimator': DecisionTreeRegressor(crite...   \n",
       "\n",
       "    split0_test_score  split1_test_score  split2_test_score  mean_test_score  \\\n",
       "9            0.096353           0.281116           0.110498         0.162654   \n",
       "0            0.124495           0.261629           0.077706         0.154609   \n",
       "1           -0.012937           0.265618           0.079618         0.110764   \n",
       "10          -0.057560           0.230740           0.111276         0.094815   \n",
       "8           -0.112713           0.276473           0.105416         0.089721   \n",
       "\n",
       "    std_test_score  rank_test_score  \n",
       "9         0.083962                1  \n",
       "0         0.078047                2  \n",
       "1         0.115833                3  \n",
       "10        0.118273                4  \n",
       "8         0.159273                5  "
      ]
     },
     "execution_count": 61,
     "metadata": {},
     "output_type": "execute_result"
    }
   ],
   "source": [
    "import numpy as np\n",
    "rg = GridSearchCV(AdaBoostRegressor(), param_grid=params_grid, scoring='r2', verbose=0)\n",
    "rg.fit(dataset[['adult', 'budget', 'runtime', 'original_language']], np.ravel(dataset[['popularity']]))\n",
    "\n",
    "pd.DataFrame(rg.cv_results_).sort_values('rank_test_score').head()"
   ]
  },
  {
   "cell_type": "code",
   "execution_count": 62,
   "metadata": {},
   "outputs": [
    {
     "name": "stderr",
     "output_type": "stream",
     "text": [
      "/usr/local/miniconda3/envs/ml_base/lib/python3.7/site-packages/sklearn/model_selection/_split.py:1978: FutureWarning: The default value of cv will change from 3 to 5 in version 0.22. Specify it explicitly to silence this warning.\n",
      "  warnings.warn(CV_WARNING, FutureWarning)\n"
     ]
    },
    {
     "data": {
      "text/html": [
       "<div>\n",
       "<style scoped>\n",
       "    .dataframe tbody tr th:only-of-type {\n",
       "        vertical-align: middle;\n",
       "    }\n",
       "\n",
       "    .dataframe tbody tr th {\n",
       "        vertical-align: top;\n",
       "    }\n",
       "\n",
       "    .dataframe thead th {\n",
       "        text-align: right;\n",
       "    }\n",
       "</style>\n",
       "<table border=\"1\" class=\"dataframe\">\n",
       "  <thead>\n",
       "    <tr style=\"text-align: right;\">\n",
       "      <th></th>\n",
       "      <th>mean_fit_time</th>\n",
       "      <th>std_fit_time</th>\n",
       "      <th>mean_score_time</th>\n",
       "      <th>std_score_time</th>\n",
       "      <th>param_base_estimator</th>\n",
       "      <th>param_learning_rate</th>\n",
       "      <th>param_n_estimators</th>\n",
       "      <th>params</th>\n",
       "      <th>split0_test_score</th>\n",
       "      <th>split1_test_score</th>\n",
       "      <th>split2_test_score</th>\n",
       "      <th>mean_test_score</th>\n",
       "      <th>std_test_score</th>\n",
       "      <th>rank_test_score</th>\n",
       "    </tr>\n",
       "  </thead>\n",
       "  <tbody>\n",
       "    <tr>\n",
       "      <td>16</td>\n",
       "      <td>0.240256</td>\n",
       "      <td>0.002196</td>\n",
       "      <td>0.020614</td>\n",
       "      <td>0.004333</td>\n",
       "      <td>DecisionTreeRegressor(criterion='mse', max_dep...</td>\n",
       "      <td>0.01</td>\n",
       "      <td>10</td>\n",
       "      <td>{'base_estimator': DecisionTreeRegressor(crite...</td>\n",
       "      <td>-0.123594</td>\n",
       "      <td>0.032290</td>\n",
       "      <td>-0.001499</td>\n",
       "      <td>-0.030937</td>\n",
       "      <td>0.066957</td>\n",
       "      <td>1</td>\n",
       "    </tr>\n",
       "    <tr>\n",
       "      <td>17</td>\n",
       "      <td>1.193484</td>\n",
       "      <td>0.020967</td>\n",
       "      <td>0.087888</td>\n",
       "      <td>0.000454</td>\n",
       "      <td>DecisionTreeRegressor(criterion='mse', max_dep...</td>\n",
       "      <td>0.01</td>\n",
       "      <td>50</td>\n",
       "      <td>{'base_estimator': DecisionTreeRegressor(crite...</td>\n",
       "      <td>-0.151792</td>\n",
       "      <td>0.037032</td>\n",
       "      <td>0.010584</td>\n",
       "      <td>-0.034728</td>\n",
       "      <td>0.083481</td>\n",
       "      <td>2</td>\n",
       "    </tr>\n",
       "    <tr>\n",
       "      <td>8</td>\n",
       "      <td>0.152484</td>\n",
       "      <td>0.015153</td>\n",
       "      <td>0.011389</td>\n",
       "      <td>0.000510</td>\n",
       "      <td>DecisionTreeRegressor(criterion='mse', max_dep...</td>\n",
       "      <td>0.01</td>\n",
       "      <td>10</td>\n",
       "      <td>{'base_estimator': DecisionTreeRegressor(crite...</td>\n",
       "      <td>-0.146983</td>\n",
       "      <td>0.033184</td>\n",
       "      <td>0.002940</td>\n",
       "      <td>-0.036955</td>\n",
       "      <td>0.078778</td>\n",
       "      <td>3</td>\n",
       "    </tr>\n",
       "    <tr>\n",
       "      <td>9</td>\n",
       "      <td>1.057945</td>\n",
       "      <td>0.037352</td>\n",
       "      <td>0.076672</td>\n",
       "      <td>0.022425</td>\n",
       "      <td>DecisionTreeRegressor(criterion='mse', max_dep...</td>\n",
       "      <td>0.01</td>\n",
       "      <td>50</td>\n",
       "      <td>{'base_estimator': DecisionTreeRegressor(crite...</td>\n",
       "      <td>-0.177200</td>\n",
       "      <td>0.040956</td>\n",
       "      <td>0.012733</td>\n",
       "      <td>-0.041173</td>\n",
       "      <td>0.096876</td>\n",
       "      <td>4</td>\n",
       "    </tr>\n",
       "    <tr>\n",
       "      <td>18</td>\n",
       "      <td>0.232357</td>\n",
       "      <td>0.004079</td>\n",
       "      <td>0.017019</td>\n",
       "      <td>0.000077</td>\n",
       "      <td>DecisionTreeRegressor(criterion='mse', max_dep...</td>\n",
       "      <td>0.1</td>\n",
       "      <td>10</td>\n",
       "      <td>{'base_estimator': DecisionTreeRegressor(crite...</td>\n",
       "      <td>-0.183034</td>\n",
       "      <td>0.037673</td>\n",
       "      <td>0.009902</td>\n",
       "      <td>-0.045156</td>\n",
       "      <td>0.098155</td>\n",
       "      <td>5</td>\n",
       "    </tr>\n",
       "  </tbody>\n",
       "</table>\n",
       "</div>"
      ],
      "text/plain": [
       "    mean_fit_time  std_fit_time  mean_score_time  std_score_time  \\\n",
       "16       0.240256      0.002196         0.020614        0.004333   \n",
       "17       1.193484      0.020967         0.087888        0.000454   \n",
       "8        0.152484      0.015153         0.011389        0.000510   \n",
       "9        1.057945      0.037352         0.076672        0.022425   \n",
       "18       0.232357      0.004079         0.017019        0.000077   \n",
       "\n",
       "                                 param_base_estimator param_learning_rate  \\\n",
       "16  DecisionTreeRegressor(criterion='mse', max_dep...                0.01   \n",
       "17  DecisionTreeRegressor(criterion='mse', max_dep...                0.01   \n",
       "8   DecisionTreeRegressor(criterion='mse', max_dep...                0.01   \n",
       "9   DecisionTreeRegressor(criterion='mse', max_dep...                0.01   \n",
       "18  DecisionTreeRegressor(criterion='mse', max_dep...                 0.1   \n",
       "\n",
       "   param_n_estimators                                             params  \\\n",
       "16                 10  {'base_estimator': DecisionTreeRegressor(crite...   \n",
       "17                 50  {'base_estimator': DecisionTreeRegressor(crite...   \n",
       "8                  10  {'base_estimator': DecisionTreeRegressor(crite...   \n",
       "9                  50  {'base_estimator': DecisionTreeRegressor(crite...   \n",
       "18                 10  {'base_estimator': DecisionTreeRegressor(crite...   \n",
       "\n",
       "    split0_test_score  split1_test_score  split2_test_score  mean_test_score  \\\n",
       "16          -0.123594           0.032290          -0.001499        -0.030937   \n",
       "17          -0.151792           0.037032           0.010584        -0.034728   \n",
       "8           -0.146983           0.033184           0.002940        -0.036955   \n",
       "9           -0.177200           0.040956           0.012733        -0.041173   \n",
       "18          -0.183034           0.037673           0.009902        -0.045156   \n",
       "\n",
       "    std_test_score  rank_test_score  \n",
       "16        0.066957                1  \n",
       "17        0.083481                2  \n",
       "8         0.078778                3  \n",
       "9         0.096876                4  \n",
       "18        0.098155                5  "
      ]
     },
     "execution_count": 62,
     "metadata": {},
     "output_type": "execute_result"
    }
   ],
   "source": [
    "rg = GridSearchCV(AdaBoostRegressor(), param_grid=params_grid, scoring='r2')\n",
    "rg.fit(dataset[['adult', 'budget', 'runtime', 'original_language']], np.ravel(dataset[['vote_average']]))\n",
    "\n",
    "pd.DataFrame(rg.cv_results_).sort_values('rank_test_score').head()"
   ]
  },
  {
   "cell_type": "code",
   "execution_count": 63,
   "metadata": {},
   "outputs": [
    {
     "name": "stderr",
     "output_type": "stream",
     "text": [
      "/usr/local/miniconda3/envs/ml_base/lib/python3.7/site-packages/sklearn/model_selection/_split.py:1978: FutureWarning: The default value of cv will change from 3 to 5 in version 0.22. Specify it explicitly to silence this warning.\n",
      "  warnings.warn(CV_WARNING, FutureWarning)\n"
     ]
    },
    {
     "data": {
      "text/html": [
       "<div>\n",
       "<style scoped>\n",
       "    .dataframe tbody tr th:only-of-type {\n",
       "        vertical-align: middle;\n",
       "    }\n",
       "\n",
       "    .dataframe tbody tr th {\n",
       "        vertical-align: top;\n",
       "    }\n",
       "\n",
       "    .dataframe thead th {\n",
       "        text-align: right;\n",
       "    }\n",
       "</style>\n",
       "<table border=\"1\" class=\"dataframe\">\n",
       "  <thead>\n",
       "    <tr style=\"text-align: right;\">\n",
       "      <th></th>\n",
       "      <th>mean_fit_time</th>\n",
       "      <th>std_fit_time</th>\n",
       "      <th>mean_score_time</th>\n",
       "      <th>std_score_time</th>\n",
       "      <th>param_base_estimator</th>\n",
       "      <th>param_learning_rate</th>\n",
       "      <th>param_n_estimators</th>\n",
       "      <th>params</th>\n",
       "      <th>split0_test_score</th>\n",
       "      <th>split1_test_score</th>\n",
       "      <th>split2_test_score</th>\n",
       "      <th>mean_test_score</th>\n",
       "      <th>std_test_score</th>\n",
       "      <th>rank_test_score</th>\n",
       "    </tr>\n",
       "  </thead>\n",
       "  <tbody>\n",
       "    <tr>\n",
       "      <td>9</td>\n",
       "      <td>0.654226</td>\n",
       "      <td>0.026688</td>\n",
       "      <td>0.043823</td>\n",
       "      <td>0.001362</td>\n",
       "      <td>DecisionTreeRegressor(criterion='mse', max_dep...</td>\n",
       "      <td>0.01</td>\n",
       "      <td>50</td>\n",
       "      <td>{'base_estimator': DecisionTreeRegressor(crite...</td>\n",
       "      <td>0.474703</td>\n",
       "      <td>0.701893</td>\n",
       "      <td>0.626633</td>\n",
       "      <td>0.601073</td>\n",
       "      <td>0.094495</td>\n",
       "      <td>1</td>\n",
       "    </tr>\n",
       "    <tr>\n",
       "      <td>8</td>\n",
       "      <td>0.129664</td>\n",
       "      <td>0.000324</td>\n",
       "      <td>0.008806</td>\n",
       "      <td>0.001020</td>\n",
       "      <td>DecisionTreeRegressor(criterion='mse', max_dep...</td>\n",
       "      <td>0.01</td>\n",
       "      <td>10</td>\n",
       "      <td>{'base_estimator': DecisionTreeRegressor(crite...</td>\n",
       "      <td>0.477187</td>\n",
       "      <td>0.697255</td>\n",
       "      <td>0.590728</td>\n",
       "      <td>0.588387</td>\n",
       "      <td>0.089858</td>\n",
       "      <td>2</td>\n",
       "    </tr>\n",
       "    <tr>\n",
       "      <td>10</td>\n",
       "      <td>0.163932</td>\n",
       "      <td>0.022069</td>\n",
       "      <td>0.013726</td>\n",
       "      <td>0.008373</td>\n",
       "      <td>DecisionTreeRegressor(criterion='mse', max_dep...</td>\n",
       "      <td>0.1</td>\n",
       "      <td>10</td>\n",
       "      <td>{'base_estimator': DecisionTreeRegressor(crite...</td>\n",
       "      <td>0.440418</td>\n",
       "      <td>0.694409</td>\n",
       "      <td>0.612085</td>\n",
       "      <td>0.582301</td>\n",
       "      <td>0.105809</td>\n",
       "      <td>3</td>\n",
       "    </tr>\n",
       "    <tr>\n",
       "      <td>2</td>\n",
       "      <td>0.141499</td>\n",
       "      <td>0.023121</td>\n",
       "      <td>0.010937</td>\n",
       "      <td>0.001691</td>\n",
       "      <td>DecisionTreeRegressor(criterion='mse', max_dep...</td>\n",
       "      <td>0.1</td>\n",
       "      <td>10</td>\n",
       "      <td>{'base_estimator': DecisionTreeRegressor(crite...</td>\n",
       "      <td>0.425738</td>\n",
       "      <td>0.667962</td>\n",
       "      <td>0.575246</td>\n",
       "      <td>0.556313</td>\n",
       "      <td>0.099790</td>\n",
       "      <td>4</td>\n",
       "    </tr>\n",
       "    <tr>\n",
       "      <td>1</td>\n",
       "      <td>0.609147</td>\n",
       "      <td>0.041776</td>\n",
       "      <td>0.045325</td>\n",
       "      <td>0.002200</td>\n",
       "      <td>DecisionTreeRegressor(criterion='mse', max_dep...</td>\n",
       "      <td>0.01</td>\n",
       "      <td>50</td>\n",
       "      <td>{'base_estimator': DecisionTreeRegressor(crite...</td>\n",
       "      <td>0.422199</td>\n",
       "      <td>0.660887</td>\n",
       "      <td>0.580706</td>\n",
       "      <td>0.554594</td>\n",
       "      <td>0.099178</td>\n",
       "      <td>5</td>\n",
       "    </tr>\n",
       "  </tbody>\n",
       "</table>\n",
       "</div>"
      ],
      "text/plain": [
       "    mean_fit_time  std_fit_time  mean_score_time  std_score_time  \\\n",
       "9        0.654226      0.026688         0.043823        0.001362   \n",
       "8        0.129664      0.000324         0.008806        0.001020   \n",
       "10       0.163932      0.022069         0.013726        0.008373   \n",
       "2        0.141499      0.023121         0.010937        0.001691   \n",
       "1        0.609147      0.041776         0.045325        0.002200   \n",
       "\n",
       "                                 param_base_estimator param_learning_rate  \\\n",
       "9   DecisionTreeRegressor(criterion='mse', max_dep...                0.01   \n",
       "8   DecisionTreeRegressor(criterion='mse', max_dep...                0.01   \n",
       "10  DecisionTreeRegressor(criterion='mse', max_dep...                 0.1   \n",
       "2   DecisionTreeRegressor(criterion='mse', max_dep...                 0.1   \n",
       "1   DecisionTreeRegressor(criterion='mse', max_dep...                0.01   \n",
       "\n",
       "   param_n_estimators                                             params  \\\n",
       "9                  50  {'base_estimator': DecisionTreeRegressor(crite...   \n",
       "8                  10  {'base_estimator': DecisionTreeRegressor(crite...   \n",
       "10                 10  {'base_estimator': DecisionTreeRegressor(crite...   \n",
       "2                  10  {'base_estimator': DecisionTreeRegressor(crite...   \n",
       "1                  50  {'base_estimator': DecisionTreeRegressor(crite...   \n",
       "\n",
       "    split0_test_score  split1_test_score  split2_test_score  mean_test_score  \\\n",
       "9            0.474703           0.701893           0.626633         0.601073   \n",
       "8            0.477187           0.697255           0.590728         0.588387   \n",
       "10           0.440418           0.694409           0.612085         0.582301   \n",
       "2            0.425738           0.667962           0.575246         0.556313   \n",
       "1            0.422199           0.660887           0.580706         0.554594   \n",
       "\n",
       "    std_test_score  rank_test_score  \n",
       "9         0.094495                1  \n",
       "8         0.089858                2  \n",
       "10        0.105809                3  \n",
       "2         0.099790                4  \n",
       "1         0.099178                5  "
      ]
     },
     "execution_count": 63,
     "metadata": {},
     "output_type": "execute_result"
    }
   ],
   "source": [
    "rg = GridSearchCV(AdaBoostRegressor(), param_grid=params_grid, scoring='r2')\n",
    "rg.fit(dataset[['adult', 'budget', 'runtime', 'original_language']], np.ravel(dataset[['revenue']]))\n",
    "\n",
    "pd.DataFrame(rg.cv_results_).sort_values('rank_test_score').head()"
   ]
  },
  {
   "cell_type": "markdown",
   "metadata": {},
   "source": [
    "Essayons une forêt aléatoire, sans hyperparameter tuning : "
   ]
  },
  {
   "cell_type": "code",
   "execution_count": 64,
   "metadata": {},
   "outputs": [],
   "source": [
    "from sklearn.ensemble import RandomForestRegressor\n",
    "from sklearn.model_selection import cross_val_score"
   ]
  },
  {
   "cell_type": "code",
   "execution_count": 66,
   "metadata": {
    "scrolled": true
   },
   "outputs": [
    {
     "name": "stderr",
     "output_type": "stream",
     "text": [
      "/usr/local/miniconda3/envs/ml_base/lib/python3.7/site-packages/sklearn/model_selection/_split.py:1978: FutureWarning: The default value of cv will change from 3 to 5 in version 0.22. Specify it explicitly to silence this warning.\n",
      "  warnings.warn(CV_WARNING, FutureWarning)\n",
      "/usr/local/miniconda3/envs/ml_base/lib/python3.7/site-packages/sklearn/ensemble/forest.py:245: FutureWarning: The default value of n_estimators will change from 10 in version 0.20 to 100 in 0.22.\n",
      "  \"10 in version 0.20 to 100 in 0.22.\", FutureWarning)\n",
      "/usr/local/miniconda3/envs/ml_base/lib/python3.7/site-packages/sklearn/ensemble/forest.py:245: FutureWarning: The default value of n_estimators will change from 10 in version 0.20 to 100 in 0.22.\n",
      "  \"10 in version 0.20 to 100 in 0.22.\", FutureWarning)\n",
      "/usr/local/miniconda3/envs/ml_base/lib/python3.7/site-packages/sklearn/ensemble/forest.py:245: FutureWarning: The default value of n_estimators will change from 10 in version 0.20 to 100 in 0.22.\n",
      "  \"10 in version 0.20 to 100 in 0.22.\", FutureWarning)\n"
     ]
    },
    {
     "name": "stdout",
     "output_type": "stream",
     "text": [
      "0.5087509909517786\n"
     ]
    },
    {
     "name": "stderr",
     "output_type": "stream",
     "text": [
      "/usr/local/miniconda3/envs/ml_base/lib/python3.7/site-packages/sklearn/model_selection/_split.py:1978: FutureWarning: The default value of cv will change from 3 to 5 in version 0.22. Specify it explicitly to silence this warning.\n",
      "  warnings.warn(CV_WARNING, FutureWarning)\n",
      "/usr/local/miniconda3/envs/ml_base/lib/python3.7/site-packages/sklearn/ensemble/forest.py:245: FutureWarning: The default value of n_estimators will change from 10 in version 0.20 to 100 in 0.22.\n",
      "  \"10 in version 0.20 to 100 in 0.22.\", FutureWarning)\n",
      "/usr/local/miniconda3/envs/ml_base/lib/python3.7/site-packages/sklearn/ensemble/forest.py:245: FutureWarning: The default value of n_estimators will change from 10 in version 0.20 to 100 in 0.22.\n",
      "  \"10 in version 0.20 to 100 in 0.22.\", FutureWarning)\n",
      "/usr/local/miniconda3/envs/ml_base/lib/python3.7/site-packages/sklearn/ensemble/forest.py:245: FutureWarning: The default value of n_estimators will change from 10 in version 0.20 to 100 in 0.22.\n",
      "  \"10 in version 0.20 to 100 in 0.22.\", FutureWarning)\n"
     ]
    },
    {
     "name": "stdout",
     "output_type": "stream",
     "text": [
      "-0.662762819102822\n"
     ]
    },
    {
     "name": "stderr",
     "output_type": "stream",
     "text": [
      "/usr/local/miniconda3/envs/ml_base/lib/python3.7/site-packages/sklearn/model_selection/_split.py:1978: FutureWarning: The default value of cv will change from 3 to 5 in version 0.22. Specify it explicitly to silence this warning.\n",
      "  warnings.warn(CV_WARNING, FutureWarning)\n",
      "/usr/local/miniconda3/envs/ml_base/lib/python3.7/site-packages/sklearn/ensemble/forest.py:245: FutureWarning: The default value of n_estimators will change from 10 in version 0.20 to 100 in 0.22.\n",
      "  \"10 in version 0.20 to 100 in 0.22.\", FutureWarning)\n",
      "/usr/local/miniconda3/envs/ml_base/lib/python3.7/site-packages/sklearn/ensemble/forest.py:245: FutureWarning: The default value of n_estimators will change from 10 in version 0.20 to 100 in 0.22.\n",
      "  \"10 in version 0.20 to 100 in 0.22.\", FutureWarning)\n",
      "/usr/local/miniconda3/envs/ml_base/lib/python3.7/site-packages/sklearn/ensemble/forest.py:245: FutureWarning: The default value of n_estimators will change from 10 in version 0.20 to 100 in 0.22.\n",
      "  \"10 in version 0.20 to 100 in 0.22.\", FutureWarning)\n"
     ]
    },
    {
     "name": "stdout",
     "output_type": "stream",
     "text": [
      "-0.11007432676573552\n"
     ]
    }
   ],
   "source": [
    "print(cross_val_score(RandomForestRegressor(), \n",
    "                dataset[['adult', 'budget', 'runtime', 'original_language']], \n",
    "                np.ravel(dataset[['revenue']]),\n",
    "                scoring='r2').mean())\n",
    "print(cross_val_score(RandomForestRegressor(), \n",
    "                dataset[['adult', 'budget', 'runtime', 'original_language']], \n",
    "                np.ravel(dataset[['popularity']]),\n",
    "                scoring='r2').mean())\n",
    "print(cross_val_score(RandomForestRegressor(), \n",
    "                dataset[['adult', 'budget', 'runtime', 'original_language']], \n",
    "                np.ravel(dataset[['vote_average']]),\n",
    "                scoring='r2').mean())"
   ]
  },
  {
   "cell_type": "markdown",
   "metadata": {},
   "source": [
    "Pour résumer, jusqu'à maintenant, nous avons, en score R2 : \n",
    "\n",
    "|                  | Revenue | Popularity | Vote Average |\n",
    "|------------------|---------|------------|--------------|\n",
    "| AdaBoost         | 60.10%  | 16%        | -3.09%       |\n",
    "| Random Forest    | 50.87%  | -66.27%    | -11%         |\n",
    "|  Baseline - mean | 0%      | 0%         | 0%           |\n",
    "\n",
    "Le ```revenue``` est de loin la variable la plus facile à prédire, contre toute attente si l'on se fiait aux histogrammes de répartition des valeurs des variables à prédire. \n",
    "\n",
    "Dans la partie qui suit, on va ajouter l'information sémantique contenue dans les ```overview```. Pour cela, on va introduire le concept d'embedding, et décrire le réseau de neurones utilisé pour le Word2Vec, qui permet de générer des embeddings relativement puissant, simplement."
   ]
  },
  {
   "attachments": {
    "Capture%20d%E2%80%99e%CC%81cran%202019-11-13%20a%CC%80%2015.40.33.png": {
     "image/png": "[encoded data removed]"
    },
    "Capture%20d%E2%80%99e%CC%81cran%202019-11-13%20a%CC%80%2015.40.39.png": {
     "image/png": "[encoded data removed]"
    },
    "Capture%20d%E2%80%99e%CC%81cran%202019-11-13%20a%CC%80%2017.10.25.png": {
     "image/png": "[encoded data removed]"
    }
   },
   "cell_type": "markdown",
   "metadata": {},
   "source": [
    "## 5. Word2vec avec gensim\n",
    "\n",
    "\n",
    "Avant de décrire le Word2Vec, nous allons poser quelquesbases du deep learning : les réseaux de neurones denses. \n",
    "\n",
    "### 5.1 Introduction aux réseaux de neurones artificiels\n",
    "\n",
    "#### 5.1.1 Neurones artificiels\n",
    "\n",
    "L'idée de copier et de simplifier le neurone a été explorée pour\n",
    " la première fois par Rosenblatt, avec son Perceptron (1957). Certains changements ont été apportés\n",
    " depuis cette première modélisation, mais elle ressemble encore un\n",
    "  peu au modèle biologique d'un neurone : un neurone biologique \n",
    "  reçoit des signaux d'autres neurones et émet un signal \n",
    "  en réponse, en fonction de certaines\n",
    "règles d'activation. Un neurone artificiel fonctionne de manière similaire : \n",
    "il prend en entrée $n$ signaux $(x_1, x_2, ...., x_n)$, \n",
    "et émet le signal $y = f(w_1 x_1 + ... + w_n x_n)$, \n",
    "où $f$ est appelé la fonction d'*activation*, \n",
    "et $w_1, ..., w_n$ sont appelés les poids \n",
    "du neurone. \n",
    "\n",
    "\n",
    "Si $f = Id$, le neurone effectue une \n",
    "régression linéaire de $y$ sur $(x_i)_{i=1, ...., n}$ en \n",
    "ajustant les poids grâce aux données d'apprentissage. \n",
    "Plus généralement, les fonctions d'activation choisies sont \n",
    "non linéraires, comme la fonction ReLU, et souvent bornées, comme la fonction \n",
    "sigmoïde ($\\sigma$), la tangente hyperbolique ($\\tanh$) :\n",
    "\n",
    "\n",
    "\\begin{eqnarray*}\n",
    "    \\forall x \\in \\mathbb{R}, \\sigma(x) &=& \\frac{1}{1+e^{-x}} \\\\\n",
    "    \\forall x \\in \\mathbb{R}, \\tanh(x) &=& \\frac{e^{2x}-1}{e^{2x}+1} \\\\\n",
    "    \\forall x \\in \\mathbb{R}, \\text{ReLU}(x) &=& \\max(0, x) \n",
    "\\end{eqnarray*}\n",
    "\n",
    "\n",
    "Cependant, la modélisation des données avec un seul neurone \n",
    "n'apporte pas d'innovation : c'est comme si l'on utilisait des régressions \n",
    "linéaires, des régressions logistiques ou des modèles de censure.\n",
    " Par conséquent, les neurones ne sont jamais utilisés seuls : \n",
    "les neurones sont collés en plusieurs couches, \n",
    "formant un *réseau*. Expliquons maintenant le modèle de réseau de neurones le plus simple : le réseau dense. \n",
    "\n",
    "\n",
    "![Capture%20d%E2%80%99e%CC%81cran%202019-11-13%20a%CC%80%2015.40.33.png](attachment:Capture%20d%E2%80%99e%CC%81cran%202019-11-13%20a%CC%80%2015.40.33.png)\n",
    "\n",
    "#### 5.1.2 Réseaux denses\n",
    "\n",
    "Les réseaux denses parallélisent et mettent en série un ensemble de neurones artificiels, \n",
    "comme schématisé en Figure 5. Dans un réseau à $L\\in \\mathbb{N}$ couches cachées\n",
    "de tailles $n_1, n_2, ..., n_L$ respectivement, les inputs sont d'abord \n",
    "passés aux $n_1$ neurones de la première couche. Chaque neurone a ses propres poids \n",
    "et calcule la réponse qu'il va donner au signal. Les réponses générées\n",
    "par chacun des neurones de la première couche sont transmis comme \n",
    "inputs aux $n_2$ neurones de la seconde couche, etc. \n",
    "\n",
    "![Capture%20d%E2%80%99e%CC%81cran%202019-11-13%20a%CC%80%2015.40.39.png](attachment:Capture%20d%E2%80%99e%CC%81cran%202019-11-13%20a%CC%80%2015.40.39.png)\n",
    "\n",
    "\n",
    "\n",
    "Plus formellement, définissons les notations suivantes:\n",
    "soit $L$ le nombre de couches cachées, et $n_l$ le nombre de neurones\n",
    "présents dans la couche $l$. Le $i$-ième neurone de la $l$-ième couche cachée\n",
    "est noté $N_i^{(l)}$. \n",
    "\n",
    "\n",
    " $N_i^{(l)}$ a $n_{l-1}$ poids : notons $w_{k, i}^{(l)}$ \n",
    "le poids de l'arrête reliant $N_{k}^{(l-1)}$ à $N_i^{(l)}$.\n",
    "En outre, si l'on note $z_i^{(l)}$ le signal sortant du neurone $N_i^{(l)}$,\n",
    "on a:\n",
    "\n",
    "\\begin{align*}\n",
    "    z_i^{(l)} = f \\left ( \\sum_{k=1}^{n_{l-1}} w_{k, i}^{(l)} z_{k}^{(l-1)} \\right )\n",
    "\\end{align*}\n",
    "\n",
    " Où $f$ est la fonction d'application de $N_i^{(l)}$\n",
    " (par soucis de clarté, et pour éviter des notations trop lourdes\n",
    "  nous prendrons $f$ identique pour tous les neurones).\n",
    "\n",
    " En notant $Z^{(l)} = (z_i^{(l)})_{i=1, ..., n}$, on peut \n",
    "écrire l'équation précedente sous forme matricielle, pour la $l$-ième \n",
    "couche cachée:\n",
    "\\begin{align*}\n",
    "    Z^{(l)} = f \\left ( W^{(l)} Z^{(l-1)} \\right )\n",
    "\\end{align*}\n",
    "Où $f$ est évidemment appliquée sur chacune des coordonnées de $W^{(l)} Z^{(l-1)}$,\n",
    "et où $W^{(l)} \\in \\mathbb{R}^{n_{l}\\times n_{l-1}}  $ : \n",
    "\\begin{align*}\n",
    "    W^{(l)} = \n",
    "    \\left (\n",
    "    \\begin{array}{ccc}\n",
    "        w_{1, 1}^{(l)} & ... & w_{n_{l-1}, 1}^{(l)} \\\\\n",
    "        w_{1, 2}^{(l)} & ... & w_{n_{l-1}, 2}^{(l)} \\\\\n",
    "        \\vdots & & \\vdots \\\\\n",
    "        w_{1, n_l}^{(l)} & ... & w_{n_{l-1}, n_l}^{(l)} \\\\\n",
    "    \\end{array}\n",
    "    \\right )\n",
    "\\end{align*}\n",
    "L'ensemble des matrices contenant les poids de chacune\n",
    "des couches cachées sera appelé $\\mathcal{W} := {W^{(l)}}_{l=1, ...L}$ \n",
    "pour toute la suite.\n",
    "\n",
    "\n",
    "La dernière couche du réseau, celle qui doit \n",
    "produire le signal de sortie, reste cependant à traiter.\n",
    "Si le problème est un problème de régression, c'est à dire que\n",
    "le signal de sortie doit être continu, alors on peut \n",
    "utiliser les fonctions d'activation classiques, \n",
    "comme dans les autres couches.\n",
    "Cependant, pour un problème de classification, il faut \n",
    "adapter la fonction d'activation. En général, pour une classification à $K$ classes, \n",
    "on choisit de prédire les probabilités d'apartenir à chacune des classes. \n",
    "Pour cela, on dimensionne la dernière couche pour qu'elle ait autant de neurones\n",
    "que de classes : $N^{(l)} = K$. À la manière d'une régression logistique multiclasses,\n",
    "on choisit souvent la fonction \"softmax\" comme fonction d'activation \n",
    "(car elle normalise tous les poids, qui se somment à 1, imitant une distribution \n",
    "de probabilité): \n",
    "\\begin{align*}\n",
    "    \\forall i = 1, ..., K , z_{i}^{(L)} &:= \\frac{e^{a_i^{(L)}}}{\\sum_{k=1}^{K} e^{a_k^{(L)}}}\n",
    "\\end{align*}\n",
    "Où $\\forall i = 1, ..., K, a_i^{(L)} :=  \\sum_{k=1}^{n_{l-1}} w_{k, i}^{(l)} z_{k}^{(l-1)}$\n",
    "\n",
    "\n",
    "\n",
    "Cette fonction représente donc la probabilité qu'un input\n",
    " $x$ appartienne à la $i$-ième classe. \n",
    " \n",
    " \n",
    " \n",
    "L'architecture, les poids de chaque couche, et les fonctions d'activation \n",
    "définissent à eux seuls un réseau dense. Afin d'obtenir des prédictions \n",
    "utiles, les poids sont considérés comme des paramètres à entraîner, ce que nous introduirons, sans donner de détail. L'architecture et les fonctions d'activation \n",
    "peuvent être considérés comme des hyperparamètres, à optimiser avec d'autres\n",
    "algorithmes que nous ne détaillerons pas ici. \n",
    "\n",
    "\n",
    "#### 5.1.3 Apprentissage d'un réseau\n",
    "\n",
    "Mettons nous dans le paradigme classique de l'apprentissage statistique:\n",
    "soit $(x_i, y_i)_{i=1, ..., n}$ notre échantillon d'apprentissage, i.i.d.,\n",
    "suivant une loi de probabilité $P$. \n",
    "Lorsque qu'un input $x_i$ est donné au réseau, il passe à travers toutes les couches\n",
    "et le réseau produit un output $\\hat{y}_i = \\text{FFNN}(x_i|\\mathcal{W})$.\n",
    "Le but est d'apprendre les poids $\\mathcal{W}$ à partir de l'échantillon d'apprentissage, \n",
    "en minimisant l'erreur commise en produisant $\\hat{y}_i$ au lieu de $y_i$ .\n",
    "Le problème se résume au programme d'optimisation suivant, avec $\\mathcal{L}$ la \n",
    "fonction de perte quantifiant l'erreur commise par le réseau : \n",
    "\\begin{align*}\n",
    "    \\mathcal{W}* \\in    \\arg \\underset{\\mathcal{W}}{\\min}   \\\n",
    "     \\mathcal{L}(\\mathcal{W}) + \\lambda \\Phi(\\mathcal{W})\n",
    "\\end{align*}\n",
    "Avec $\\lambda\\Phi$ le terme de régularisation. \n",
    "\n",
    "\n",
    "En régression, les fonctions de perte classiques s'appliquent :\n",
    " \"mean squared error\" (MSE), fonction de perte $\\mathcal{L}_2$ , \n",
    "\"mean absolute error\", fonction de perte L1 $\\mathcal{L}_1$ ,\n",
    " etc... En classification, les fonctions de perte les plus classiques \n",
    " sont l'entropie croisée,le \"negative logarithmic likelihood\", \"hinge \n",
    "loss\", etc. Dans la suite, on s'intéressere plus particulièrement à l'entropie croisée.\n",
    "Cette fonction de perte fonctionne particulièrement bien \n",
    "dans les cas de classification, après un softmax et plus généralement toute\n",
    "fonction d'activation renvoyant des probabilités d'appartenance à des classes. \n",
    "Cette fonction vient du \"negative logarithmic likelihood\":\n",
    "\\begin{align*}\n",
    "    \\mathcal{L}((x_i, y_i)_{i=1, ..., n}) = -\\sum_{i=1}^n \\ln p(y_i|x_i, \\mathcal{W})\n",
    "\\end{align*}\n",
    "\n",
    "\n",
    "Il faut préciser ce qu'est vraiment $p(y_i|x_i, \\mathcal{W})$. \n",
    "Comme nous sommes dans un contexte de classification,\n",
    "on peut écrire les $(y_i)_i$ comme des vecteurs \"one-hot\": si $y_i$ \n",
    "appartient à la $j$-ième classe, alors $y_i$ est un vecteur \n",
    "constitué de 0, excepté d'un 1 sur sa $j$-ième ligne. \n",
    "En notant $C_k$ la $k$-ième classe, on a:\n",
    "\\begin{align*}\n",
    "    p(y_i  |x_i, \\mathcal{W}) = \\prod_{k=1}^K p(C_k|x_i)^{y_{i, k}}\n",
    "\\end{align*}\n",
    "où $y_{i, k}$ est la $k$-ième ligne de $y_i$. \n",
    "Comme on suppose que l'on a mis un softmax sur la dernière couche, et que\n",
    " $\\hat{y}_{i, k}:= p(C_k|x_i) $, on peut réecrire :\n",
    "\n",
    "\\begin{align*}\n",
    "    \\mathcal{L}(x_i, y_i) = -\\sum_{k=1}^K y_{i,k}\\ln (\\hat{y}_{i, k})\n",
    "\\end{align*}\n",
    "L'équation au dessus est la définition de l'entropie croisée. \n",
    "\n",
    "\n",
    "\n",
    "Maintenant que nous avons choisi une fonction\n",
    "de perte permettant de quantifier l'erreur faite par le réseau, \n",
    "on aimerait pouvoir différencier celle ci par rapport à \n",
    "chacun des poids de chacune des matrices de $\\mathcal{W}$:\n",
    "\\begin{align*}\n",
    "    \\frac{\\partial \\mathcal{L}((x_i, y_i)_{i=1, ..., n})}{\\partial \\mathcal{W}} = \n",
    "    \\sum_{i=1}^n \\frac{\\partial \\mathcal{L}(x_i, y_i)}{\\partial \\mathcal{W}} \n",
    "\\end{align*}\n",
    "\n",
    "Sans surprise, la perte  $\\mathcal{L}(x_i, y_i)$ n'est pas évidente \n",
    "à différencier par rapport à\n",
    "$\\mathcal{W}$, sachant que $\\mathcal{L}(x_i, y_i) = -\\sum_{k=1}^K y_{i,k}\\ln (\\hat{y}_{i, k})$ \n",
    "et $\\hat{y}_{i, k} = z_{i, k}^{(l)}$ \n",
    "sont produits par un calcul complexe dans tout le réseau. \n",
    "L'algorithme de **backpropagation** apporte une solution à ce problème, mais nous ne le décrirons pas ici.\n",
    "\n",
    "\n",
    "### 5.2 Word2Vec\n",
    "\n",
    "\n",
    "Word2Vec est un mot générique pour les deux architectures de réseaux \n",
    "de neurones, Skip-Gram et Continuous Bag-of-Words (CBOW), proposées \n",
    "par Mikolov et al, 2013. \n",
    "Ces réseaux doivent réaliser une *fausse tâche* : prédire les mots\n",
    "voisins (un contexte d'une taille fixée) entourant un mot\n",
    " donné pour le Skip-Gram, et prédire un mot à partir \n",
    " de son contexte pour le CBOW. Après avoir étés entraînés sur ces \n",
    " fausses tâches, on utilise les poids du modèle comme représentation\n",
    " (embedding) de chaque mot du vocabulaire. Cette représentation a l'avantage \n",
    " d'être de faible dimension (en général $d=200$), et dense. Elle a par ailleurs\n",
    " des propriétés linguistiques intéressantes et de bonnes\n",
    " performances sur de nombreuses tâches de NLP.\n",
    "\n",
    "\n",
    "#### 5.2.1 Skip-Gram\n",
    "\n",
    "Le modèle Skip-Gram est un modèle à l'architecture assez simple: c'est un \n",
    "réseau à une seule couche cachée dont l'input est un mot donné dans une phrase \n",
    "issue d'un corpus, et l'output doit être, par exemple, les 2 mots précédant \n",
    "le mot cible dans la phrase, et les 2 mots suivant le mot cible. \n",
    "\n",
    "![Capture%20d%E2%80%99e%CC%81cran%202019-11-13%20a%CC%80%2017.10.25.png](attachment:Capture%20d%E2%80%99e%CC%81cran%202019-11-13%20a%CC%80%2017.10.25.png)\n",
    "\n",
    "On suppose que l'on a à disposition un corpus de textes, duquel on peut \n",
    "extraire un vocabulaire. On notera $V \\in \\mathbb{N}$ le nombre de mots uniques\n",
    "dans le vocabulaire. Les mots sont représentés par des vecteurs \"one-hot\", 0-1\n",
    "de taille $V$. La couche cachée, avec $N$ neurones ($N$ est un paramètre)\n",
    " a pour fonction d'activation l'identité. \n",
    "La couche de sortie a $C$ neurones, avec $C$ la taille de la fenêtre de contexte \n",
    "(le nombre de mots de contexte qui doivent être prédits par l'algorithme,\n",
    ", $C=2$ par exemple), et sa fonction d'activation \n",
    "est un softmax, qui à chacun des $C$ mots associe un vecteur de taille $V$\n",
    "contenant les probabilités que ce mot soit chacun des mots du dictionnaire.\n",
    "\n",
    "Dans le contexte du Word2Vec, nous ne nous intéressons qu'aux poids qui \n",
    "relient les inputs à la couche cachée à $d$ neurones.\n",
    " Ce sont eux qui vont nous permettre d'obtenir une représentation \n",
    " vectorielle dense de dimension $N$ pour chacun des mots de $V$. Si $X$\n",
    "est le vecteur 0-1 qui représente un mot et $W$ la matrice des poids reliant \n",
    "les inputs à la couche cachée, alors on peut définir $X_emb$, l'embedding en \n",
    "dimension $N$ de $X$, par:\n",
    "\n",
    "\n",
    "\\begin{align}\n",
    "    X_{\\text{emb}} = X^{T}  W \n",
    "    \\label{eq:embeddinform}\n",
    "\\end{align}\n",
    "\\begin{align*}\n",
    "    X  =\n",
    "    \\left (\n",
    "    \\begin{array}{c}\n",
    "        0 \\\\\n",
    "        \\vdots \\\\\n",
    "        0 \\\\\n",
    "        1 \\\\\n",
    "        0 \\\\\n",
    "        \\vdots \\\\\n",
    "        0\n",
    "    \\end{array}\n",
    "    \\right ) \\in \\{ 0, 1\\}^{V}\n",
    "    , \\ \\\n",
    "    W = \\left (\n",
    "    \\begin{array}{ccc}\n",
    "        w_{1,1} & \\dots & w_{1, N} \\\\\n",
    "        \\vdots  &       & \\vdots \\\\\n",
    "        w_{V,1} & \\dots & w_{V, N} \\\\ \n",
    "    \\end{array}\n",
    "    \\right ) \\in \\mathbb{R}^{(V, N)}, \\ \\ \n",
    "    X_{\\text{emb}} \\in \\mathbb{R}^{N}\n",
    "\\end{align*}\n",
    "\n",
    "\n",
    "\n",
    "\n",
    "La valeur linguistique du Skip-Gram\n",
    "est sous-tendue par une hypothèse linguistique fondamentale, \n",
    "appelée \"hypothèse de distribution\". Selon cette hypothèse, \n",
    "des mots qui apparaissent dans des contextes similaires \n",
    "sont plus susceptibles d'avoir \n",
    "la même signification. Cette idée est résumée par \n",
    "une citation très populaire de Firth, 1957 : *\"Un mot est caractérisé par \n",
    "la compagnie qu'il a\"*. Avec le modèle Skip-Gram, \n",
    "les mots qui apparaissent dans le même contexte \n",
    "sont plus susceptibles d'avoir \n",
    "des représentations vectorielles similaires, et ainsi, \n",
    "si l'hypothèse de distribution de Firth est vraie, les mots avec \n",
    "une représentation proche (au sens vectoriel) aura probablement le même sens.\n",
    "C'est ce que les résultats empiriques montrent en général. \n",
    "\n",
    "\n",
    "On va voir cette valeur linguistique dans la pratique, sur le corpus des overviews.\n",
    "\n",
    "Pour cela, il faut d'abord nettoyer le corpus en:\n",
    "\n",
    "- tokenizant (c'est à dire délimiter les frontières entre les mots, ce qui consiste à plus que faire un ```.split(' ')```en raison de la présence de ponctuation (```'They're nice.'``` doit devenir ```[\"They\", \"'\", \"re\", \"nice\", \".\"]```, ou à la limite ```[\"They're\", \"nice\", \".\"]``` mais pas ```[\"They're\", \"nice.\"]```. Pour cette tâche, on utilisera et comparera des tokenizer dans NLTK\n",
    "- en remplaçant les tokens qui représentent des nombres par le token ```NUM```\n",
    "- éventuellement, selon l'utilisation, en passant tous les mots en miniscules, afin de ne pas faire epxloser la taille du vocabulaire (sinon, ```Chat``` et ```chat``` comptent comme deux mots différents). Si l'on est sur un corpus avec beaucoup de noms propres, cependant, il peut être intéressant de laisser à chaque mot ses majuscules. \n",
    "\n",
    "Ensuite, on utilisera gensim pour générer des embeddings. "
   ]
  },
  {
   "cell_type": "code",
   "execution_count": 80,
   "metadata": {},
   "outputs": [
    {
     "name": "stderr",
     "output_type": "stream",
     "text": [
      "[nltk_data] Downloading package punkt to /Users/salome/nltk_data...\n",
      "[nltk_data]   Unzipping tokenizers/punkt.zip.\n"
     ]
    }
   ],
   "source": [
    "# from nltk.tokenize import ToktokTokenizer\n",
    "# toktok = ToktokTokenizer()\n",
    "from nltk.tokenize import word_tokenize\n",
    "import nltk\n",
    "nltk.download('punkt')\n",
    "def preprocessor(x):\n",
    "    tokens = word_tokenize(x)\n",
    "    for i in range(len(tokens)):\n",
    "        try:\n",
    "            float(tok[i])\n",
    "            tokens[i] = 'NUM'\n",
    "        except:\n",
    "            tokens[i] = tokens[i].lower()\n",
    "    return tokens           "
   ]
  },
  {
   "cell_type": "code",
   "execution_count": 81,
   "metadata": {},
   "outputs": [
    {
     "name": "stderr",
     "output_type": "stream",
     "text": [
      "/usr/local/miniconda3/envs/ml_base/lib/python3.7/site-packages/tqdm/std.py:651: FutureWarning: The Panel class is removed from pandas. Accessing it from the top-level namespace will also be removed in the next version\n",
      "  from pandas import Panel\n"
     ]
    },
    {
     "data": {
      "application/vnd.jupyter.widget-view+json": {
       "model_id": "ec335889185d447d9ee2d3974d7484b1",
       "version_major": 2,
       "version_minor": 0
      },
      "text/plain": [
       "HBox(children=(IntProgress(value=0, description='Pandas Apply', max=44506, style=ProgressStyle(description_wid…"
      ]
     },
     "metadata": {},
     "output_type": "display_data"
    },
    {
     "name": "stdout",
     "output_type": "stream",
     "text": [
      "\n"
     ]
    }
   ],
   "source": [
    "df['overview_clean'] = df.overview.swifter.apply(preprocessor)"
   ]
  },
  {
   "cell_type": "code",
   "execution_count": 82,
   "metadata": {},
   "outputs": [],
   "source": [
    "sentences = df.overview_clean.array  # Création de notre corpus, pour gensim : liste de listes de tokens."
   ]
  },
  {
   "cell_type": "markdown",
   "metadata": {},
   "source": [
    "On définit un modèle Word2Vec avec les paramètres suivants:\n",
    "\n",
    "- ```sentences``` servira à définir le vocabulaire.\n",
    "- ```size``` correspond à la dimension des embeddings\n",
    "- ```window```correspond à la fenêtre de contexte pour le Word2Vec\n",
    "- ```workers```permet de paralléliser les calculs sur le nombre de coeurs logiques voulu.\n",
    "\n",
    "\n",
    "Ensuite, on entraîne avec les paramètres suivants:\n",
    "\n",
    "- ```sentences```est le corpus sur lequel les embeddings sont entraînés\n",
    "- ```epochs``` est le nombre de fois que le réseau de neurones verra le dataset complet (i.e. 3 epochs = toutes les phrases du dataset sont passées 3 fois dans le réseau). \n",
    "- ```total_examples```est un paramètre pour Gensim mais il n'est pas d'intérêt ici. "
   ]
  },
  {
   "cell_type": "code",
   "execution_count": 101,
   "metadata": {},
   "outputs": [],
   "source": [
    "from gensim.models import Word2Vec\n",
    "\n",
    "model = Word2Vec(sentences, size=100, window=5, workers=4) "
   ]
  },
  {
   "cell_type": "code",
   "execution_count": 102,
   "metadata": {
    "scrolled": true
   },
   "outputs": [
    {
     "data": {
      "text/plain": [
       "(190105213, 278291100)"
      ]
     },
     "execution_count": 102,
     "metadata": {},
     "output_type": "execute_result"
    }
   ],
   "source": [
    "model.train(sentences, epochs=100, total_examples=len(sentences))"
   ]
  },
  {
   "cell_type": "markdown",
   "metadata": {},
   "source": [
    "Maintenant que le modèle est entraîné, on peut accéder à nos embeddings, et calculer des distances entre les mots : "
   ]
  },
  {
   "cell_type": "code",
   "execution_count": 153,
   "metadata": {},
   "outputs": [],
   "source": [
    "# model.wv['american'] (pour accéder au vecteur)"
   ]
  },
  {
   "cell_type": "code",
   "execution_count": 104,
   "metadata": {},
   "outputs": [
    {
     "data": {
      "text/plain": [
       "[('indian', 0.5954558849334717),\n",
       " ('australian', 0.5947948694229126),\n",
       " ('korean', 0.5686920285224915),\n",
       " ('italian', 0.5648338794708252),\n",
       " ('unnamed', 0.5455442667007446),\n",
       " ('african', 0.5415443181991577),\n",
       " ('british', 0.5395276546478271),\n",
       " ('africa', 0.5394771695137024),\n",
       " ('america', 0.5148426294326782),\n",
       " ('european', 0.5071295499801636)]"
      ]
     },
     "execution_count": 104,
     "metadata": {},
     "output_type": "execute_result"
    }
   ],
   "source": [
    "model.wv.most_similar(['american'])"
   ]
  },
  {
   "cell_type": "code",
   "execution_count": 105,
   "metadata": {},
   "outputs": [
    {
     "data": {
      "text/plain": [
       "[('russian', 0.706658124923706),\n",
       " ('french', 0.7006711959838867),\n",
       " ('british', 0.6950783729553223),\n",
       " ('japanese', 0.5871707797050476),\n",
       " ('polish', 0.5653404593467712),\n",
       " ('allied', 0.5594543218612671),\n",
       " ('spanish', 0.5237394571304321),\n",
       " ('hungarian', 0.5110633969306946),\n",
       " ('greek', 0.5021350383758545),\n",
       " ('soviet', 0.4994301497936249)]"
      ]
     },
     "execution_count": 105,
     "metadata": {},
     "output_type": "execute_result"
    }
   ],
   "source": [
    "model.wv.most_similar(['german'])"
   ]
  },
  {
   "cell_type": "code",
   "execution_count": 106,
   "metadata": {},
   "outputs": [
    {
     "data": {
      "text/plain": [
       "[('girl', 0.8342278599739075),\n",
       " ('man', 0.8019335269927979),\n",
       " ('boy', 0.6905571222305298),\n",
       " ('widow', 0.6331672072410583),\n",
       " ('schoolgirl', 0.6124118566513062),\n",
       " ('lady', 0.6101078987121582),\n",
       " ('doctor', 0.5910288095474243),\n",
       " ('couple', 0.587404727935791),\n",
       " ('prostitute', 0.5862715244293213),\n",
       " ('housewife', 0.5637763738632202)]"
      ]
     },
     "execution_count": 106,
     "metadata": {},
     "output_type": "execute_result"
    }
   ],
   "source": [
    "model.wv.most_similar(['woman'])"
   ]
  },
  {
   "cell_type": "code",
   "execution_count": 107,
   "metadata": {},
   "outputs": [
    {
     "data": {
      "text/plain": [
       "[('woman', 0.8019335269927979),\n",
       " ('boy', 0.6830469369888306),\n",
       " ('person', 0.6665498614311218),\n",
       " ('guy', 0.6343482732772827),\n",
       " ('girl', 0.6277250647544861),\n",
       " ('businessman', 0.5695167779922485),\n",
       " ('doctor', 0.5566256046295166),\n",
       " ('industrialist', 0.5484250783920288),\n",
       " ('lady', 0.5480961203575134),\n",
       " ('stranger', 0.5419880151748657)]"
      ]
     },
     "execution_count": 107,
     "metadata": {},
     "output_type": "execute_result"
    }
   ],
   "source": [
    "model.wv.most_similar(['man'])"
   ]
  },
  {
   "cell_type": "code",
   "execution_count": 119,
   "metadata": {
    "scrolled": true
   },
   "outputs": [
    {
     "data": {
      "text/plain": [
       "[('february', 0.7930305600166321),\n",
       " ('november', 0.7602800726890564),\n",
       " ('december', 0.748563289642334),\n",
       " ('july', 0.7432801723480225),\n",
       " ('october', 0.741482675075531),\n",
       " ('january', 0.7394894361495972),\n",
       " ('april', 0.6662518978118896),\n",
       " ('march', 0.6561836004257202),\n",
       " ('june', 0.6423262357711792),\n",
       " ('august', 0.6311318874359131)]"
      ]
     },
     "execution_count": 119,
     "metadata": {},
     "output_type": "execute_result"
    }
   ],
   "source": [
    "model.wv.most_similar(['september'])"
   ]
  },
  {
   "cell_type": "code",
   "execution_count": 120,
   "metadata": {},
   "outputs": [
    {
     "data": {
      "text/plain": [
       "[('dna', 0.5729106664657593),\n",
       " ('software', 0.5685489773750305),\n",
       " ('satellite', 0.5273171663284302),\n",
       " ('lab', 0.5203267335891724),\n",
       " ('serum', 0.5100677013397217),\n",
       " ('vaccine', 0.5081146955490112),\n",
       " ('top-secret', 0.5034869909286499),\n",
       " ('atomic', 0.485113263130188),\n",
       " ('formula', 0.47948428988456726),\n",
       " ('robot', 0.47460415959358215)]"
      ]
     },
     "execution_count": 120,
     "metadata": {},
     "output_type": "execute_result"
    }
   ],
   "source": [
    "model.wv.most_similar(['computer'])"
   ]
  },
  {
   "cell_type": "markdown",
   "metadata": {},
   "source": [
    "On peut assez facilement voir les biais sociaux du dataset. \n",
    "\n",
    "Essayons maintenant d'aggréger ces embeddings, en utilisant la moyenne sur chaque ```overview``` : si $e_x$ désigne l'embedding du mot $x$, et que notre overview est constituée des mots $x_1, ..., x_t$, l'embedding de l'overview est:\n",
    "$$\\frac{1}{t} \\sum_{i=1}^t e_{x_i}$$\n",
    "\n",
    "Cette aggrégation permet de surmonter le fait que les overview sont de tailles variables. Cependant, elle implique que les overview sont des *bag-of-words* : l'ordre des mots dans la phrase n'a aucune importance. Dans la littérature, on utilise plutôt des réseaux de neurones récurrents ou des mécanismes d'attention pour aggréger des séquences de taille variable, mais cela sort du cadre de ce cours. "
   ]
  },
  {
   "cell_type": "code",
   "execution_count": 130,
   "metadata": {},
   "outputs": [
    {
     "data": {
      "application/vnd.jupyter.widget-view+json": {
       "model_id": "91f9cfd24a164b3d88486c57dd47c351",
       "version_major": 2,
       "version_minor": 0
      },
      "text/plain": [
       "HBox(children=(IntProgress(value=0, description='Pandas Apply', max=44506, style=ProgressStyle(description_wid…"
      ]
     },
     "metadata": {},
     "output_type": "display_data"
    },
    {
     "name": "stdout",
     "output_type": "stream",
     "text": [
      "\n"
     ]
    },
    {
     "name": "stderr",
     "output_type": "stream",
     "text": [
      "/usr/local/miniconda3/envs/ml_base/lib/python3.7/site-packages/ipykernel_launcher.py:5: SettingWithCopyWarning: \n",
      "A value is trying to be set on a copy of a slice from a DataFrame.\n",
      "Try using .loc[row_indexer,col_indexer] = value instead\n",
      "\n",
      "See the caveats in the documentation: http://pandas.pydata.org/pandas-docs/stable/user_guide/indexing.html#returning-a-view-versus-a-copy\n",
      "  \"\"\"\n"
     ]
    },
    {
     "data": {
      "application/vnd.jupyter.widget-view+json": {
       "model_id": "9e936c94b3f74fada8628c616d0b3f80",
       "version_major": 2,
       "version_minor": 0
      },
      "text/plain": [
       "HBox(children=(IntProgress(value=0, description='Pandas Apply', max=44506, style=ProgressStyle(description_wid…"
      ]
     },
     "metadata": {},
     "output_type": "display_data"
    },
    {
     "name": "stdout",
     "output_type": "stream",
     "text": [
      "\n"
     ]
    },
    {
     "name": "stderr",
     "output_type": "stream",
     "text": [
      "/usr/local/miniconda3/envs/ml_base/lib/python3.7/site-packages/ipykernel_launcher.py:6: SettingWithCopyWarning: \n",
      "A value is trying to be set on a copy of a slice from a DataFrame.\n",
      "Try using .loc[row_indexer,col_indexer] = value instead\n",
      "\n",
      "See the caveats in the documentation: http://pandas.pydata.org/pandas-docs/stable/user_guide/indexing.html#returning-a-view-versus-a-copy\n",
      "  \n"
     ]
    },
    {
     "data": {
      "application/vnd.jupyter.widget-view+json": {
       "model_id": "f5207a6df0aa42f28a6072dbf1c2ffce",
       "version_major": 2,
       "version_minor": 0
      },
      "text/plain": [
       "HBox(children=(IntProgress(value=0, description='Pandas Apply', max=44506, style=ProgressStyle(description_wid…"
      ]
     },
     "metadata": {},
     "output_type": "display_data"
    },
    {
     "name": "stdout",
     "output_type": "stream",
     "text": [
      "\n"
     ]
    },
    {
     "name": "stderr",
     "output_type": "stream",
     "text": [
      "/usr/local/miniconda3/envs/ml_base/lib/python3.7/site-packages/ipykernel_launcher.py:7: SettingWithCopyWarning: \n",
      "A value is trying to be set on a copy of a slice from a DataFrame.\n",
      "Try using .loc[row_indexer,col_indexer] = value instead\n",
      "\n",
      "See the caveats in the documentation: http://pandas.pydata.org/pandas-docs/stable/user_guide/indexing.html#returning-a-view-versus-a-copy\n",
      "  import sys\n"
     ]
    }
   ],
   "source": [
    "dataset = df[['adult', 'budget', 'runtime', 'original_language', 'overview', 'popularity', 'vote_average', 'revenue']]\n",
    "dic_language = Counter(dataset.original_language)\n",
    "dic_language = {list(dic_language.keys())[i]: i for i in range(len(dic_language))}\n",
    "\n",
    "dataset['adult'] = dataset.adult.swifter.apply(lambda x: 1 if x==True else 0)\n",
    "dataset['original_language'] = dataset.original_language.swifter.apply(lambda x: dic_language[x])\n",
    "dataset['overview'] = dataset.overview.swifter.apply(preprocessor) "
   ]
  },
  {
   "cell_type": "code",
   "execution_count": 135,
   "metadata": {},
   "outputs": [],
   "source": [
    "def mean_emb(x):\n",
    "    acc = np.array([0]*100)\n",
    "    n = len(acc)\n",
    "    for elt in x:\n",
    "        try:\n",
    "            acc = acc + model.wv[str(elt)]\n",
    "        except:\n",
    "            acc = acc + np.array([0]*100)\n",
    "    return acc/n"
   ]
  },
  {
   "cell_type": "code",
   "execution_count": 136,
   "metadata": {},
   "outputs": [
    {
     "data": {
      "application/vnd.jupyter.widget-view+json": {
       "model_id": "292950d8b95c49f186afceebbe1f1364",
       "version_major": 2,
       "version_minor": 0
      },
      "text/plain": [
       "HBox(children=(IntProgress(value=0, description='Pandas Apply', max=44506, style=ProgressStyle(description_wid…"
      ]
     },
     "metadata": {},
     "output_type": "display_data"
    },
    {
     "name": "stdout",
     "output_type": "stream",
     "text": [
      "\n"
     ]
    },
    {
     "name": "stderr",
     "output_type": "stream",
     "text": [
      "/usr/local/miniconda3/envs/ml_base/lib/python3.7/site-packages/ipykernel_launcher.py:1: SettingWithCopyWarning: \n",
      "A value is trying to be set on a copy of a slice from a DataFrame.\n",
      "Try using .loc[row_indexer,col_indexer] = value instead\n",
      "\n",
      "See the caveats in the documentation: http://pandas.pydata.org/pandas-docs/stable/user_guide/indexing.html#returning-a-view-versus-a-copy\n",
      "  \"\"\"Entry point for launching an IPython kernel.\n"
     ]
    }
   ],
   "source": [
    "dataset['overview_emb'] = dataset.overview.swifter.apply(mean_emb)"
   ]
  },
  {
   "cell_type": "code",
   "execution_count": 138,
   "metadata": {},
   "outputs": [
    {
     "name": "stderr",
     "output_type": "stream",
     "text": [
      "/usr/local/miniconda3/envs/ml_base/lib/python3.7/site-packages/ipykernel_launcher.py:3: SettingWithCopyWarning: \n",
      "A value is trying to be set on a copy of a slice from a DataFrame.\n",
      "Try using .loc[row_indexer,col_indexer] = value instead\n",
      "\n",
      "See the caveats in the documentation: http://pandas.pydata.org/pandas-docs/stable/user_guide/indexing.html#returning-a-view-versus-a-copy\n",
      "  This is separate from the ipykernel package so we can avoid doing imports until\n"
     ]
    }
   ],
   "source": [
    "for i in range(100):\n",
    "\n",
    "    dataset['embedding'+str(i)] = dataset.overview_emb.apply(lambda x: x[i])"
   ]
  },
  {
   "cell_type": "code",
   "execution_count": 139,
   "metadata": {
    "scrolled": true
   },
   "outputs": [
    {
     "data": {
      "text/html": [
       "<div>\n",
       "<style scoped>\n",
       "    .dataframe tbody tr th:only-of-type {\n",
       "        vertical-align: middle;\n",
       "    }\n",
       "\n",
       "    .dataframe tbody tr th {\n",
       "        vertical-align: top;\n",
       "    }\n",
       "\n",
       "    .dataframe thead th {\n",
       "        text-align: right;\n",
       "    }\n",
       "</style>\n",
       "<table border=\"1\" class=\"dataframe\">\n",
       "  <thead>\n",
       "    <tr style=\"text-align: right;\">\n",
       "      <th></th>\n",
       "      <th>adult</th>\n",
       "      <th>budget</th>\n",
       "      <th>runtime</th>\n",
       "      <th>original_language</th>\n",
       "      <th>overview</th>\n",
       "      <th>popularity</th>\n",
       "      <th>vote_average</th>\n",
       "      <th>revenue</th>\n",
       "      <th>overview_emb</th>\n",
       "      <th>embedding0</th>\n",
       "      <th>...</th>\n",
       "      <th>embedding90</th>\n",
       "      <th>embedding91</th>\n",
       "      <th>embedding92</th>\n",
       "      <th>embedding93</th>\n",
       "      <th>embedding94</th>\n",
       "      <th>embedding95</th>\n",
       "      <th>embedding96</th>\n",
       "      <th>embedding97</th>\n",
       "      <th>embedding98</th>\n",
       "      <th>embedding99</th>\n",
       "    </tr>\n",
       "  </thead>\n",
       "  <tbody>\n",
       "    <tr>\n",
       "      <td>0</td>\n",
       "      <td>0</td>\n",
       "      <td>30000000.0</td>\n",
       "      <td>81.0</td>\n",
       "      <td>0</td>\n",
       "      <td>[led, by, woody, ,, andy, 's, toys, live, happ...</td>\n",
       "      <td>21.946943</td>\n",
       "      <td>7.7</td>\n",
       "      <td>373554033.0</td>\n",
       "      <td>[0.588452709838748, -0.301624558288604, 0.2086...</td>\n",
       "      <td>0.588453</td>\n",
       "      <td>...</td>\n",
       "      <td>0.378564</td>\n",
       "      <td>-0.095289</td>\n",
       "      <td>-0.207217</td>\n",
       "      <td>-0.040147</td>\n",
       "      <td>-0.151232</td>\n",
       "      <td>0.148070</td>\n",
       "      <td>-0.665708</td>\n",
       "      <td>-0.037258</td>\n",
       "      <td>0.227326</td>\n",
       "      <td>0.127778</td>\n",
       "    </tr>\n",
       "    <tr>\n",
       "      <td>1</td>\n",
       "      <td>0</td>\n",
       "      <td>65000000.0</td>\n",
       "      <td>104.0</td>\n",
       "      <td>0</td>\n",
       "      <td>[when, siblings, judy, and, peter, discover, a...</td>\n",
       "      <td>17.015539</td>\n",
       "      <td>6.9</td>\n",
       "      <td>262797249.0</td>\n",
       "      <td>[0.40376079618930816, 0.09972847572527826, -0....</td>\n",
       "      <td>0.403761</td>\n",
       "      <td>...</td>\n",
       "      <td>0.302559</td>\n",
       "      <td>-0.198700</td>\n",
       "      <td>-0.177549</td>\n",
       "      <td>-0.010927</td>\n",
       "      <td>-0.128646</td>\n",
       "      <td>-0.423444</td>\n",
       "      <td>-0.670530</td>\n",
       "      <td>-0.335689</td>\n",
       "      <td>0.058760</td>\n",
       "      <td>0.624457</td>\n",
       "    </tr>\n",
       "    <tr>\n",
       "      <td>2</td>\n",
       "      <td>0</td>\n",
       "      <td>0.0</td>\n",
       "      <td>101.0</td>\n",
       "      <td>0</td>\n",
       "      <td>[a, family, wedding, reignites, the, ancient, ...</td>\n",
       "      <td>11.712900</td>\n",
       "      <td>6.5</td>\n",
       "      <td>0.0</td>\n",
       "      <td>[0.5866376641392708, 0.009822156559675933, 0.0...</td>\n",
       "      <td>0.586638</td>\n",
       "      <td>...</td>\n",
       "      <td>0.136217</td>\n",
       "      <td>0.097413</td>\n",
       "      <td>-0.440052</td>\n",
       "      <td>0.133497</td>\n",
       "      <td>-0.185731</td>\n",
       "      <td>-0.428283</td>\n",
       "      <td>-0.955007</td>\n",
       "      <td>-0.112577</td>\n",
       "      <td>0.198231</td>\n",
       "      <td>0.365247</td>\n",
       "    </tr>\n",
       "    <tr>\n",
       "      <td>3</td>\n",
       "      <td>0</td>\n",
       "      <td>16000000.0</td>\n",
       "      <td>127.0</td>\n",
       "      <td>0</td>\n",
       "      <td>[cheated, on, ,, mistreated, and, stepped, on,...</td>\n",
       "      <td>3.859495</td>\n",
       "      <td>6.1</td>\n",
       "      <td>81452156.0</td>\n",
       "      <td>[0.21523798525333404, -0.022943648928776383, 0...</td>\n",
       "      <td>0.215238</td>\n",
       "      <td>...</td>\n",
       "      <td>0.286706</td>\n",
       "      <td>0.050758</td>\n",
       "      <td>-0.107714</td>\n",
       "      <td>0.119012</td>\n",
       "      <td>0.043881</td>\n",
       "      <td>-0.246228</td>\n",
       "      <td>-0.661256</td>\n",
       "      <td>-0.312217</td>\n",
       "      <td>0.393625</td>\n",
       "      <td>0.518147</td>\n",
       "    </tr>\n",
       "    <tr>\n",
       "      <td>4</td>\n",
       "      <td>0</td>\n",
       "      <td>0.0</td>\n",
       "      <td>106.0</td>\n",
       "      <td>0</td>\n",
       "      <td>[just, when, george, banks, has, recovered, fr...</td>\n",
       "      <td>8.387519</td>\n",
       "      <td>5.7</td>\n",
       "      <td>76578911.0</td>\n",
       "      <td>[0.627620096988976, -0.2647484218887985, 0.019...</td>\n",
       "      <td>0.627620</td>\n",
       "      <td>...</td>\n",
       "      <td>0.680850</td>\n",
       "      <td>0.199391</td>\n",
       "      <td>-0.637380</td>\n",
       "      <td>0.078417</td>\n",
       "      <td>0.418099</td>\n",
       "      <td>-0.093843</td>\n",
       "      <td>-0.757104</td>\n",
       "      <td>-0.105275</td>\n",
       "      <td>0.264602</td>\n",
       "      <td>0.442793</td>\n",
       "    </tr>\n",
       "  </tbody>\n",
       "</table>\n",
       "<p>5 rows × 109 columns</p>\n",
       "</div>"
      ],
      "text/plain": [
       "   adult      budget  runtime  original_language  \\\n",
       "0      0  30000000.0     81.0                  0   \n",
       "1      0  65000000.0    104.0                  0   \n",
       "2      0         0.0    101.0                  0   \n",
       "3      0  16000000.0    127.0                  0   \n",
       "4      0         0.0    106.0                  0   \n",
       "\n",
       "                                            overview  popularity  \\\n",
       "0  [led, by, woody, ,, andy, 's, toys, live, happ...   21.946943   \n",
       "1  [when, siblings, judy, and, peter, discover, a...   17.015539   \n",
       "2  [a, family, wedding, reignites, the, ancient, ...   11.712900   \n",
       "3  [cheated, on, ,, mistreated, and, stepped, on,...    3.859495   \n",
       "4  [just, when, george, banks, has, recovered, fr...    8.387519   \n",
       "\n",
       "   vote_average      revenue  \\\n",
       "0           7.7  373554033.0   \n",
       "1           6.9  262797249.0   \n",
       "2           6.5          0.0   \n",
       "3           6.1   81452156.0   \n",
       "4           5.7   76578911.0   \n",
       "\n",
       "                                        overview_emb  embedding0  ...  \\\n",
       "0  [0.588452709838748, -0.301624558288604, 0.2086...    0.588453  ...   \n",
       "1  [0.40376079618930816, 0.09972847572527826, -0....    0.403761  ...   \n",
       "2  [0.5866376641392708, 0.009822156559675933, 0.0...    0.586638  ...   \n",
       "3  [0.21523798525333404, -0.022943648928776383, 0...    0.215238  ...   \n",
       "4  [0.627620096988976, -0.2647484218887985, 0.019...    0.627620  ...   \n",
       "\n",
       "   embedding90  embedding91  embedding92  embedding93  embedding94  \\\n",
       "0     0.378564    -0.095289    -0.207217    -0.040147    -0.151232   \n",
       "1     0.302559    -0.198700    -0.177549    -0.010927    -0.128646   \n",
       "2     0.136217     0.097413    -0.440052     0.133497    -0.185731   \n",
       "3     0.286706     0.050758    -0.107714     0.119012     0.043881   \n",
       "4     0.680850     0.199391    -0.637380     0.078417     0.418099   \n",
       "\n",
       "   embedding95  embedding96  embedding97  embedding98  embedding99  \n",
       "0     0.148070    -0.665708    -0.037258     0.227326     0.127778  \n",
       "1    -0.423444    -0.670530    -0.335689     0.058760     0.624457  \n",
       "2    -0.428283    -0.955007    -0.112577     0.198231     0.365247  \n",
       "3    -0.246228    -0.661256    -0.312217     0.393625     0.518147  \n",
       "4    -0.093843    -0.757104    -0.105275     0.264602     0.442793  \n",
       "\n",
       "[5 rows x 109 columns]"
      ]
     },
     "execution_count": 139,
     "metadata": {},
     "output_type": "execute_result"
    }
   ],
   "source": [
    "dataset.head()"
   ]
  },
  {
   "cell_type": "markdown",
   "metadata": {},
   "source": [
    "Regardons si cet embedding aggrégé améliore notre modèle : "
   ]
  },
  {
   "cell_type": "code",
   "execution_count": 140,
   "metadata": {},
   "outputs": [],
   "source": [
    "dataset = dataset.drop(['overview_emb', 'overview'], axis=1)"
   ]
  },
  {
   "cell_type": "code",
   "execution_count": 143,
   "metadata": {},
   "outputs": [],
   "source": [
    "X = dataset.drop(['revenue', 'popularity', 'vote_average'], axis=1)\n",
    "y = np.ravel(dataset['revenue'])"
   ]
  },
  {
   "cell_type": "code",
   "execution_count": 147,
   "metadata": {},
   "outputs": [
    {
     "name": "stderr",
     "output_type": "stream",
     "text": [
      "/usr/local/miniconda3/envs/ml_base/lib/python3.7/site-packages/sklearn/model_selection/_split.py:1978: FutureWarning: The default value of cv will change from 3 to 5 in version 0.22. Specify it explicitly to silence this warning.\n",
      "  warnings.warn(CV_WARNING, FutureWarning)\n",
      "/usr/local/miniconda3/envs/ml_base/lib/python3.7/site-packages/sklearn/ensemble/forest.py:245: FutureWarning: The default value of n_estimators will change from 10 in version 0.20 to 100 in 0.22.\n",
      "  \"10 in version 0.20 to 100 in 0.22.\", FutureWarning)\n",
      "/usr/local/miniconda3/envs/ml_base/lib/python3.7/site-packages/sklearn/ensemble/forest.py:245: FutureWarning: The default value of n_estimators will change from 10 in version 0.20 to 100 in 0.22.\n",
      "  \"10 in version 0.20 to 100 in 0.22.\", FutureWarning)\n",
      "/usr/local/miniconda3/envs/ml_base/lib/python3.7/site-packages/sklearn/ensemble/forest.py:245: FutureWarning: The default value of n_estimators will change from 10 in version 0.20 to 100 in 0.22.\n",
      "  \"10 in version 0.20 to 100 in 0.22.\", FutureWarning)\n"
     ]
    },
    {
     "data": {
      "text/plain": [
       "0.5216312592152293"
      ]
     },
     "execution_count": 147,
     "metadata": {},
     "output_type": "execute_result"
    }
   ],
   "source": [
    "cross_val_score(RandomForestRegressor(), X, y, scoring='r2').mean()"
   ]
  },
  {
   "cell_type": "code",
   "execution_count": 148,
   "metadata": {},
   "outputs": [
    {
     "name": "stderr",
     "output_type": "stream",
     "text": [
      "/usr/local/miniconda3/envs/ml_base/lib/python3.7/site-packages/sklearn/model_selection/_split.py:1978: FutureWarning: The default value of cv will change from 3 to 5 in version 0.22. Specify it explicitly to silence this warning.\n",
      "  warnings.warn(CV_WARNING, FutureWarning)\n"
     ]
    },
    {
     "data": {
      "text/plain": [
       "0.5914066078197373"
      ]
     },
     "execution_count": 148,
     "metadata": {},
     "output_type": "execute_result"
    }
   ],
   "source": [
    "from sklearn.linear_model import LinearRegression\n",
    "cross_val_score(LinearRegression(), X, y, scoring='r2').mean()"
   ]
  },
  {
   "cell_type": "code",
   "execution_count": 149,
   "metadata": {},
   "outputs": [
    {
     "name": "stderr",
     "output_type": "stream",
     "text": [
      "/usr/local/miniconda3/envs/ml_base/lib/python3.7/site-packages/sklearn/model_selection/_split.py:1978: FutureWarning: The default value of cv will change from 3 to 5 in version 0.22. Specify it explicitly to silence this warning.\n",
      "  warnings.warn(CV_WARNING, FutureWarning)\n",
      "/usr/local/miniconda3/envs/ml_base/lib/python3.7/site-packages/sklearn/linear_model/coordinate_descent.py:475: ConvergenceWarning: Objective did not converge. You might want to increase the number of iterations. Duality gap: 1.5398915727286338e+19, tolerance: 9648400701354002.0\n",
      "  positive)\n",
      "/usr/local/miniconda3/envs/ml_base/lib/python3.7/site-packages/sklearn/linear_model/coordinate_descent.py:475: ConvergenceWarning: Objective did not converge. You might want to increase the number of iterations. Duality gap: 2.7058052033617207e+19, tolerance: 1.1677799355777616e+16\n",
      "  positive)\n",
      "/usr/local/miniconda3/envs/ml_base/lib/python3.7/site-packages/sklearn/linear_model/coordinate_descent.py:475: ConvergenceWarning: Objective did not converge. You might want to increase the number of iterations. Duality gap: 3.3617423678896325e+19, tolerance: 1.6167579276168414e+16\n",
      "  positive)\n"
     ]
    },
    {
     "data": {
      "text/plain": [
       "0.59140685264319"
      ]
     },
     "execution_count": 149,
     "metadata": {},
     "output_type": "execute_result"
    }
   ],
   "source": [
    "from sklearn.linear_model import Lasso\n",
    "cross_val_score(Lasso(), X, y, scoring='r2').mean()"
   ]
  },
  {
   "cell_type": "code",
   "execution_count": 151,
   "metadata": {},
   "outputs": [
    {
     "name": "stderr",
     "output_type": "stream",
     "text": [
      "/usr/local/miniconda3/envs/ml_base/lib/python3.7/site-packages/sklearn/model_selection/_split.py:1978: FutureWarning: The default value of cv will change from 3 to 5 in version 0.22. Specify it explicitly to silence this warning.\n",
      "  warnings.warn(CV_WARNING, FutureWarning)\n",
      "/usr/local/miniconda3/envs/ml_base/lib/python3.7/site-packages/sklearn/ensemble/forest.py:245: FutureWarning: The default value of n_estimators will change from 10 in version 0.20 to 100 in 0.22.\n",
      "  \"10 in version 0.20 to 100 in 0.22.\", FutureWarning)\n",
      "/usr/local/miniconda3/envs/ml_base/lib/python3.7/site-packages/sklearn/ensemble/forest.py:245: FutureWarning: The default value of n_estimators will change from 10 in version 0.20 to 100 in 0.22.\n",
      "  \"10 in version 0.20 to 100 in 0.22.\", FutureWarning)\n",
      "/usr/local/miniconda3/envs/ml_base/lib/python3.7/site-packages/sklearn/ensemble/forest.py:245: FutureWarning: The default value of n_estimators will change from 10 in version 0.20 to 100 in 0.22.\n",
      "  \"10 in version 0.20 to 100 in 0.22.\", FutureWarning)\n"
     ]
    },
    {
     "name": "stdout",
     "output_type": "stream",
     "text": [
      "-0.2569988313311771\n"
     ]
    },
    {
     "name": "stderr",
     "output_type": "stream",
     "text": [
      "/usr/local/miniconda3/envs/ml_base/lib/python3.7/site-packages/sklearn/model_selection/_split.py:1978: FutureWarning: The default value of cv will change from 3 to 5 in version 0.22. Specify it explicitly to silence this warning.\n",
      "  warnings.warn(CV_WARNING, FutureWarning)\n"
     ]
    },
    {
     "name": "stdout",
     "output_type": "stream",
     "text": [
      "0.15117319669787888\n",
      "0.1442755716079848\n"
     ]
    },
    {
     "name": "stderr",
     "output_type": "stream",
     "text": [
      "/usr/local/miniconda3/envs/ml_base/lib/python3.7/site-packages/sklearn/model_selection/_split.py:1978: FutureWarning: The default value of cv will change from 3 to 5 in version 0.22. Specify it explicitly to silence this warning.\n",
      "  warnings.warn(CV_WARNING, FutureWarning)\n"
     ]
    }
   ],
   "source": [
    "y = np.ravel(dataset['popularity'])\n",
    "print(cross_val_score(RandomForestRegressor(), X, y, scoring='r2').mean())\n",
    "print(cross_val_score(LinearRegression(), X, y, scoring='r2').mean())\n",
    "print(cross_val_score(Lasso(), X, y, scoring='r2').mean())"
   ]
  },
  {
   "cell_type": "code",
   "execution_count": 152,
   "metadata": {
    "scrolled": true
   },
   "outputs": [
    {
     "name": "stderr",
     "output_type": "stream",
     "text": [
      "/usr/local/miniconda3/envs/ml_base/lib/python3.7/site-packages/sklearn/model_selection/_split.py:1978: FutureWarning: The default value of cv will change from 3 to 5 in version 0.22. Specify it explicitly to silence this warning.\n",
      "  warnings.warn(CV_WARNING, FutureWarning)\n",
      "/usr/local/miniconda3/envs/ml_base/lib/python3.7/site-packages/sklearn/ensemble/forest.py:245: FutureWarning: The default value of n_estimators will change from 10 in version 0.20 to 100 in 0.22.\n",
      "  \"10 in version 0.20 to 100 in 0.22.\", FutureWarning)\n",
      "/usr/local/miniconda3/envs/ml_base/lib/python3.7/site-packages/sklearn/ensemble/forest.py:245: FutureWarning: The default value of n_estimators will change from 10 in version 0.20 to 100 in 0.22.\n",
      "  \"10 in version 0.20 to 100 in 0.22.\", FutureWarning)\n",
      "/usr/local/miniconda3/envs/ml_base/lib/python3.7/site-packages/sklearn/ensemble/forest.py:245: FutureWarning: The default value of n_estimators will change from 10 in version 0.20 to 100 in 0.22.\n",
      "  \"10 in version 0.20 to 100 in 0.22.\", FutureWarning)\n"
     ]
    },
    {
     "name": "stdout",
     "output_type": "stream",
     "text": [
      "-0.18957814876706017\n"
     ]
    },
    {
     "name": "stderr",
     "output_type": "stream",
     "text": [
      "/usr/local/miniconda3/envs/ml_base/lib/python3.7/site-packages/sklearn/model_selection/_split.py:1978: FutureWarning: The default value of cv will change from 3 to 5 in version 0.22. Specify it explicitly to silence this warning.\n",
      "  warnings.warn(CV_WARNING, FutureWarning)\n"
     ]
    },
    {
     "name": "stdout",
     "output_type": "stream",
     "text": [
      "-0.07611847953262947\n"
     ]
    },
    {
     "name": "stderr",
     "output_type": "stream",
     "text": [
      "/usr/local/miniconda3/envs/ml_base/lib/python3.7/site-packages/sklearn/model_selection/_split.py:1978: FutureWarning: The default value of cv will change from 3 to 5 in version 0.22. Specify it explicitly to silence this warning.\n",
      "  warnings.warn(CV_WARNING, FutureWarning)\n"
     ]
    },
    {
     "name": "stdout",
     "output_type": "stream",
     "text": [
      "-0.0680224910559795\n"
     ]
    }
   ],
   "source": [
    "y = np.ravel(dataset['vote_average'])\n",
    "print(cross_val_score(RandomForestRegressor(), X, y, scoring='r2').mean())\n",
    "print(cross_val_score(LinearRegression(), X, y, scoring='r2').mean())\n",
    "print(cross_val_score(Lasso(), X, y, scoring='r2').mean())"
   ]
  },
  {
   "cell_type": "markdown",
   "metadata": {},
   "source": [
    "L'embedding aggrégé n'améliore malheureusement pas vraiment nos modèles. "
   ]
  }
 ],
 "metadata": {
  "kernelspec": {
   "display_name": "Python 3",
   "language": "python",
   "name": "python3"
  },
  "language_info": {
   "codemirror_mode": {
    "name": "ipython",
    "version": 3
   },
   "file_extension": ".py",
   "mimetype": "text/x-python",
   "name": "python",
   "nbconvert_exporter": "python",
   "pygments_lexer": "ipython3",
   "version": "3.7.4"
  }
 },
 "nbformat": 4,
 "nbformat_minor": 2
}
