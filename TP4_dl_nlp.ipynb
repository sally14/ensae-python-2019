{
 "cells": [
  {
   "cell_type": "markdown",
   "metadata": {},
   "source": [
    "# TP 4 : Introduction au deep learning pour le NLP\n",
    "\n",
    "\n",
    "Dans ce TP; on changera un peu des bases classiques d'apprentissage statistique, pour traiter un type de données différentes : le texte. \n",
    "\n",
    "Pour des raisons de temps, et comme il n'y a qu'une seule séance prévue sur ce sujet, on se focalisera sur les outils deep learning, et l'on ne verra pas les algorithmes type LDA/etc. \n",
    "\n",
    "\n",
    "## Données et preprocessing\n",
    "\n",
    "En texte, les données sont rarement aussi propres que dans les bases utilisées jusqu'à maintenant. \n",
    "Pour ce TP, on téléchargera une base de données de 50 000 descriptions de films. \n",
    "\n",
    "### 1. Télécharger les données (https://www.kaggle.com/rounakbanik/the-movies-dataset ), et les ouvrir avec pandas.\n",
    "\n",
    "### 2. Observer les résumés de films. Que remarquez-vous? Quelles sont vos idées de preprocessing? \n",
    "\n",
    "### 3. Quelles sont les variables intéressantes à prédire? Tracer leurs histogrammes. Que remarquez-vous? \n",
    "\n",
    "## Un premier modèle de ML classique\n",
    "\n",
    "### 4. Faire un premier modèle de ML classique avec scikit learn en utilisant les variables non textuelles, évaluer.\n",
    "\n",
    "\n",
    "## Embeddings\n",
    "\n",
    "### 5. Apprendre des embeddings sur le corpus des descriptions des films non traité. Que remarquez-vous? \n",
    "\n",
    "### 6. Mettre en place le preprocessing adapté pour réduire la taille du vocabulaire et générer des embeddings de bonne qualité\n",
    "\n",
    "## Des embeddings au modèle de prédiction\n",
    "\n",
    "### 7. Quel problème remarquez-vous pour passer des embeddings à un modèle de prédiction? Suggérez des solutions d'aggrégation. Intégrez les résultats au modèle et évaluer. \n",
    "\n",
    "### 8. (Bonus) Implémenter un modèle de prédiction avec un LSTM simple. \n",
    "\n"
   ]
  }
 ],
 "metadata": {
  "kernelspec": {
   "display_name": "Python 3",
   "language": "python",
   "name": "python3"
  },
  "language_info": {
   "codemirror_mode": {
    "name": "ipython",
    "version": 3
   },
   "file_extension": ".py",
   "mimetype": "text/x-python",
   "name": "python",
   "nbconvert_exporter": "python",
   "pygments_lexer": "ipython3",
   "version": "3.7.4"
  }
 },
 "nbformat": 4,
 "nbformat_minor": 2
}
