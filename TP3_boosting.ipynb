{
 "cells": [
  {
   "cell_type": "markdown",
   "metadata": {},
   "source": [
    "# TP3. Cross-validation, boosting, hyperparameter tuning\n",
    "\n",
    "\n",
    "Dans ce TP, on va voir des aspects plus \"méta\" du machine learning. On tentera de répondre aux questions suivantes : \n",
    "\n",
    "- Comment évaluer de manière robuste les modèles, sans que cela ne dépende totalement de la séparation train/test? C'est ce que la cross validation nous aidera à faire dans un premier temps.  \n",
    "- Comment aggréger plein de modèles faibles pour en faire un modèle fort? On fera du boosting. \n",
    "- Comment trouver les meilleurs hyperparamètres d'un modèle? On verra l'algorithme GridSearch \n",
    "\n",
    "\n",
    "\n",
    "## 1. Cross-validation \n",
    "\n",
    "\n",
    "## 2. Boosting\n",
    "\n",
    "\n",
    "## 3. Hyperparameter tuning\n",
    "\n",
    "\n",
    "\n",
    "## Consignes \n",
    "\n",
    "**Cross-validation**\n",
    "\n",
    "1. Charger les datasets ```iris``` et ```diabetes``` de scikit-learn\n",
    "2. Séparer le dataset ```iris``` en deux train/test sets différents, ```(X_train1, y_train1, X_test1, y_test1), (X_train2, y_train2,  X_test2, y_test2)```. Afficher l'histogramme des espèces pour chacun des train/test.\n",
    "3. Faire de même pour ```diabetes```. Que remarquez-vous? \n",
    "4. Entraîner une forêt aléatoire ```rf1```sur ```X_train1, y_train1```, et une autre forêt aléatoire ```rf2```sur ```X_train2, y_train2```. Evaluer. Comparer.  \n",
    "5. Faire une cross-validation, pour ```iris``` et ```diabetes```. \n",
    "\n",
    "**Boosting**\n",
    "\n",
    "6. Evaluer les performances d'adaboost, avec le cross-val score, sur ```iris``` et ```diabetes```\n",
    "7. Les performances changent-elles en fonction du ```base_estimator``` choisi?\n",
    "8. Tester et comparer xgboost\n",
    "\n",
    "**Hyperparameter tuning**\n",
    "\n",
    "9. Choisir 3 algorithmes, lister leurs hyperparamètres\n",
    "10. Trouver ces hyperparamètres avec GridSearch"
   ]
  },
  {
   "cell_type": "code",
   "execution_count": 2,
   "metadata": {},
   "outputs": [],
   "source": [
    "from sklearn.datasets import load_iris, load_diabetes\n",
    "\n",
    "iris = load_iris()\n",
    "X_iris, y_iris = iris.data, iris.target\n",
    "diabetes = load_diabetes()\n",
    "X_diabetes, y_diabetes = diabetes.data, diabetes.target"
   ]
  },
  {
   "cell_type": "code",
   "execution_count": 4,
   "metadata": {},
   "outputs": [],
   "source": [
    "from sklearn.model_selection import train_test_split\n",
    "X_train1, X_test1, y_train1, y_test1 = train_test_split(X_iris, y_iris)\n",
    "X_train2, X_test2, y_train2, y_test2 = train_test_split(X_iris, y_iris)"
   ]
  },
  {
   "cell_type": "code",
   "execution_count": 15,
   "metadata": {},
   "outputs": [
    {
     "data": {
      "image/png": "[encoded data removed]",
      "text/plain": [
       "<Figure size 432x288 with 1 Axes>"
      ]
     },
     "metadata": {
      "needs_background": "light"
     },
     "output_type": "display_data"
    }
   ],
   "source": [
    "import matplotlib.pyplot as plt\n",
    "import numpy as np\n",
    "\n",
    "plt.figure()\n",
    "plt.hist(y_test1, align='left', label=\"split 1\")\n",
    "plt.hist(y_test2, align='right', label=\"split 2\")\n",
    "plt.legend()\n",
    "plt.show()"
   ]
  },
  {
   "cell_type": "code",
   "execution_count": 16,
   "metadata": {},
   "outputs": [
    {
     "name": "stderr",
     "output_type": "stream",
     "text": [
      "/usr/local/miniconda3/envs/hackathon/lib/python3.6/site-packages/sklearn/ensemble/forest.py:248: FutureWarning: The default value of n_estimators will change from 10 in version 0.20 to 100 in 0.22.\n",
      "  \"10 in version 0.20 to 100 in 0.22.\", FutureWarning)\n",
      "/usr/local/miniconda3/envs/hackathon/lib/python3.6/site-packages/sklearn/ensemble/forest.py:248: FutureWarning: The default value of n_estimators will change from 10 in version 0.20 to 100 in 0.22.\n",
      "  \"10 in version 0.20 to 100 in 0.22.\", FutureWarning)\n"
     ]
    },
    {
     "data": {
      "text/plain": [
       "RandomForestClassifier(bootstrap=True, class_weight=None, criterion='gini',\n",
       "            max_depth=None, max_features='auto', max_leaf_nodes=None,\n",
       "            min_impurity_decrease=0.0, min_impurity_split=None,\n",
       "            min_samples_leaf=1, min_samples_split=2,\n",
       "            min_weight_fraction_leaf=0.0, n_estimators=10, n_jobs=None,\n",
       "            oob_score=False, random_state=None, verbose=0,\n",
       "            warm_start=False)"
      ]
     },
     "execution_count": 16,
     "metadata": {},
     "output_type": "execute_result"
    }
   ],
   "source": [
    "from sklearn.ensemble import RandomForestClassifier\n",
    "\n",
    "rf1 = RandomForestClassifier()\n",
    "rf2 = RandomForestClassifier()\n",
    "\n",
    "rf1.fit(X_train1, y_train1)\n",
    "rf2.fit(X_train2, y_train2)\n",
    "\n"
   ]
  },
  {
   "cell_type": "code",
   "execution_count": 17,
   "metadata": {},
   "outputs": [
    {
     "name": "stdout",
     "output_type": "stream",
     "text": [
      "              precision    recall  f1-score   support\n",
      "\n",
      "           0       1.00      1.00      1.00        14\n",
      "           1       0.75      0.90      0.82        10\n",
      "           2       0.92      0.79      0.85        14\n",
      "\n",
      "   micro avg       0.89      0.89      0.89        38\n",
      "   macro avg       0.89      0.90      0.89        38\n",
      "weighted avg       0.90      0.89      0.90        38\n",
      "\n"
     ]
    }
   ],
   "source": [
    "from sklearn.metrics import classification_report\n",
    "\n",
    "print(classification_report(y_test1, rf1.predict(X_test1)))"
   ]
  },
  {
   "cell_type": "code",
   "execution_count": 18,
   "metadata": {},
   "outputs": [
    {
     "name": "stdout",
     "output_type": "stream",
     "text": [
      "              precision    recall  f1-score   support\n",
      "\n",
      "           0       1.00      1.00      1.00        13\n",
      "           1       1.00      0.92      0.96        13\n",
      "           2       0.92      1.00      0.96        12\n",
      "\n",
      "   micro avg       0.97      0.97      0.97        38\n",
      "   macro avg       0.97      0.97      0.97        38\n",
      "weighted avg       0.98      0.97      0.97        38\n",
      "\n"
     ]
    }
   ],
   "source": [
    "print(classification_report(y_test2, rf1.predict(X_test2)))"
   ]
  },
  {
   "cell_type": "code",
   "execution_count": 19,
   "metadata": {},
   "outputs": [
    {
     "data": {
      "image/png": "[encoded data removed]",
      "text/plain": [
       "<Figure size 432x288 with 1 Axes>"
      ]
     },
     "metadata": {
      "needs_background": "light"
     },
     "output_type": "display_data"
    },
    {
     "name": "stdout",
     "output_type": "stream",
     "text": [
      "-0.2094368474199395\n",
      "0.8909705921938832\n"
     ]
    },
    {
     "name": "stderr",
     "output_type": "stream",
     "text": [
      "/usr/local/miniconda3/envs/hackathon/lib/python3.6/site-packages/sklearn/ensemble/forest.py:248: FutureWarning: The default value of n_estimators will change from 10 in version 0.20 to 100 in 0.22.\n",
      "  \"10 in version 0.20 to 100 in 0.22.\", FutureWarning)\n",
      "/usr/local/miniconda3/envs/hackathon/lib/python3.6/site-packages/sklearn/ensemble/forest.py:248: FutureWarning: The default value of n_estimators will change from 10 in version 0.20 to 100 in 0.22.\n",
      "  \"10 in version 0.20 to 100 in 0.22.\", FutureWarning)\n"
     ]
    }
   ],
   "source": [
    "from sklearn.model_selection import train_test_split\n",
    "X_train1, X_test1, y_train1, y_test1 = train_test_split(X_diabetes, y_diabetes)\n",
    "X_train2, X_test2, y_train2, y_test2 = train_test_split(X_diabetes, y_diabetes)\n",
    "\n",
    "import matplotlib.pyplot as plt\n",
    "import numpy as np\n",
    "\n",
    "plt.figure()\n",
    "plt.hist(y_test1, align='left', label=\"split 1\")\n",
    "plt.hist(y_test2, align='right', label=\"split 2\")\n",
    "plt.legend()\n",
    "plt.show()\n",
    "\n",
    "from sklearn.ensemble import RandomForestRegressor\n",
    "\n",
    "rf1 = RandomForestClassifier()\n",
    "rf2 = RandomForestClassifier()\n",
    "\n",
    "rf1.fit(X_train1, y_train1)\n",
    "rf2.fit(X_train2, y_train2)\n",
    "\n",
    "\n",
    "\n",
    "from sklearn.metrics import r2_score\n",
    "\n",
    "print(r2_score(y_test1, rf1.predict(X_test1)))\n",
    "\n",
    "print(r2_score(y_test2, rf1.predict(X_test2)))\n",
    "\n"
   ]
  }
 ],
 "metadata": {
  "kernelspec": {
   "display_name": "Python 3",
   "language": "python",
   "name": "python3"
  },
  "language_info": {
   "codemirror_mode": {
    "name": "ipython",
    "version": 3
   },
   "file_extension": ".py",
   "mimetype": "text/x-python",
   "name": "python",
   "nbconvert_exporter": "python",
   "pygments_lexer": "ipython3",
   "version": "3.6.7"
  }
 },
 "nbformat": 4,
 "nbformat_minor": 2
}
