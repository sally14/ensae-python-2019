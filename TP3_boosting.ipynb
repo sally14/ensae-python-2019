{
 "cells": [
  {
   "cell_type": "markdown",
   "metadata": {},
   "source": [
    "# TP3. Cross-validation, boosting, hyperparameter tuning\n",
    "\n",
    "\n",
    "Dans ce TP, on va voir des aspects plus \"méta\" du machine learning. On tentera de répondre aux questions suivantes : \n",
    "\n",
    "- Comment évaluer de manière robuste les modèles, sans que cela ne dépende totalement de la séparation train/test? C'est ce que la cross validation nous aidera à faire dans un premier temps.  \n",
    "- Comment aggréger plein de modèles faibles pour en faire un modèle fort? On fera du boosting. \n",
    "- Comment trouver les meilleurs hyperparamètres d'un modèle? On verra l'algorithme GridSearch \n",
    "\n",
    "\n",
    "\n",
    "## 1. Cross-validation \n",
    "\n",
    "\n",
    "## 2. Boosting\n",
    "\n",
    "\n",
    "## 3. Hyperparameter tuning\n",
    "\n",
    "\n",
    "\n",
    "## Consignes \n",
    "\n",
    "**Cross-validation**\n",
    "\n",
    "1. Charger les datasets ```iris``` et ```diabetes``` de scikit-learn\n",
    "2. Séparer le dataset ```iris``` en deux train/test sets différents, ```(X_train1, y_train1, X_test1, y_test1), (X_train2, y_train2,  X_test2, y_test2)```. Afficher l'histogramme des espèces pour chacun des train/test.\n",
    "3. Faire de même pour ```diabetes```. Que remarquez-vous? \n",
    "4. Entraîner une forêt aléatoire ```rf1```sur ```X_train1, y_train1```, et une autre forêt aléatoire ```rf2```sur ```X_train2, y_train2```. Evaluer. Comparer.  \n",
    "5. Faire une cross-validation, pour ```iris``` et ```diabetes```. \n",
    "\n",
    "**Boosting**\n",
    "\n",
    "6. Evaluer les performances d'adaboost, avec le cross-val score, sur ```iris``` et ```diabetes```\n",
    "7. Les performances changent-elles en fonction du ```base_estimator``` choisi?\n",
    "8. Tester et comparer xgboost\n",
    "\n",
    "**Hyperparameter tuning**\n",
    "\n",
    "9. Choisir 3 algorithmes, lister leurs hyperparamètres\n",
    "10. Trouver ces hyperparamètres avec GridSearch"
   ]
  },
  {
   "cell_type": "code",
   "execution_count": null,
   "metadata": {},
   "outputs": [],
   "source": []
  }
 ],
 "metadata": {
  "kernelspec": {
   "display_name": "Python 3",
   "language": "python",
   "name": "python3"
  },
  "language_info": {
   "codemirror_mode": {
    "name": "ipython",
    "version": 3
   },
   "file_extension": ".py",
   "mimetype": "text/x-python",
   "name": "python",
   "nbconvert_exporter": "python",
   "pygments_lexer": "ipython3",
   "version": "3.7.3"
  }
 },
 "nbformat": 4,
 "nbformat_minor": 2
}
